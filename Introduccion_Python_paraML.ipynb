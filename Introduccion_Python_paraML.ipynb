{
  "cells": [
    {
      "cell_type": "markdown",
      "metadata": {
        "id": "view-in-github",
        "colab_type": "text"
      },
      "source": [
        "<a href=\"https://colab.research.google.com/github/JbhC/2023-info-com-08/blob/main/Introduccion_Python_paraML.ipynb\" target=\"_parent\"><img src=\"https://colab.research.google.com/assets/colab-badge.svg\" alt=\"Open In Colab\"/></a>"
      ]
    },
    {
      "cell_type": "markdown",
      "id": "3dfbbb1c",
      "metadata": {
        "id": "3dfbbb1c"
      },
      "source": [
        "# Fundamentos de Python para el aprendizaje automático\n",
        "\n",
        "Este cuaderno cubrira los siguientes temas:\n",
        "- [Introduccion](#introduccion)\n",
        "- [Visualizacion de datos](#Visualizacion)\n",
        "- [Algebra lineal](#AlgebraLineal)\n",
        "- [Feature engineering](#FeatureEngineering)\n",
        "- [Machine Learning](#ML)\n"
      ]
    },
    {
      "cell_type": "markdown",
      "id": "97902dbd",
      "metadata": {
        "id": "97902dbd"
      },
      "source": [
        "<a name='introduccion'></a>\n",
        "# Introducción a Temas Clave en Machine Learning\n",
        "\n",
        "Machine Learning es una disciplina que se encuentra en el corazón de numerosas aplicaciones modernas, desde sistemas de recomendación hasta coches autónomos. Python es uno de los lenguajes más utilizados en este campo, debido a su sencillez y la abundancia de bibliotecas especializadas.\n",
        "\n",
        "A lo largo de nuestro estudio, exploraremos los siguientes temas clave:\n",
        "\n",
        "## Visualización de Datos\n",
        "La visualización de datos es esencial para entender nuestros datasets. Nos permite detectar patrones, identificar anomalías y validar modelos. Con bibliotecas como Matplotlib y Seaborn, podemos crear gráficos y visualizaciones detalladas y personalizables.\n",
        "\n",
        "## Álgebra Lineal\n",
        "El Álgebra Lineal es la base de muchas técnicas y algoritmos de Machine Learning. Conceptos como vectores, matrices y operaciones entre ellos son fundamentales para entender y aplicar estos algoritmos. La biblioteca Numpy nos proporciona las herramientas para trabajar con estos conceptos en Python.\n",
        "\n",
        "## Feature Engineering\n",
        "Feature Engineering es el proceso de transformar los datos brutos en características que mejor representen el problema a los algoritmos de Machine Learning, mejorando así su rendimiento. Pandas es una biblioteca muy útil para esta tarea, permitiéndonos manipular datos fácilmente.\n",
        "\n",
        "## Machine Learning\n",
        "El Machine Learning nos permite aprender de los datos y hacer predicciones o decisiones sin ser explícitamente programados para hacerlo. Es una parte fundamental de muchas aplicaciones modernas. Sklearn es una de las bibliotecas más populares para Machine Learning en Python, proporcionando una gran variedad de algoritmos y herramientas.\n",
        "\n",
        "A lo largo de este curso, utilizaremos los siguientes módulos de Python:\n",
        "\n",
        "- Numpy: para manipulación de matrices y operaciones de álgebra lineal.\n",
        "- Pandas: para manipulación de datos y feature engineering.\n",
        "- Matplotlib y Seaborn: para la visualización de datos.\n",
        "- Scipy: para tareas científicas y técnicas.\n",
        "- Sklearn: para aplicar técnicas y algoritmos de Machine Learning.\n",
        "\n",
        "Aunque cada uno de estos temas puede ser una disciplina en sí misma, juntos forman las habilidades fundamentales que necesita un practicante de Machine Learning. Al dominar estos temas, estarás bien preparado para adentrarte en el emocionante campo del Machine Learning.\n"
      ]
    },
    {
      "cell_type": "markdown",
      "id": "0c08f405",
      "metadata": {
        "id": "0c08f405"
      },
      "source": [
        "<a name='Visualizacion'></a>\n",
        "# Visualización de datos\n",
        "## Importancia de la Visualización de Datos en Machine Learning\n",
        "\n",
        "La visualización de datos es un componente fundamental en el campo del Machine Learning.\n",
        "Permite entender mejor los datos con los que estamos trabajando, detectar patrones, identificar anomalías y\n",
        "validar nuestras hipótesis. La visualización es una herramienta poderosa para la exploración y análisis de datos,\n",
        "así como para la presentación de los resultados de nuestras predicciones y modelos de Machine Learning.\n",
        "\n",
        "### ¿Por qué utilizar Matplotlib, Pandas, Seaborn y Numpy?\n",
        "\n",
        "Python es uno de los lenguajes de programación más utilizados en el campo del Machine Learning, en gran parte debido a su ecosistema de bibliotecas y módulos robustos y versátiles. Entre ellos, Matplotlib, Pandas, Seaborn y Numpy destacan por su utilidad en el manejo, análisis y visualización de datos.\n",
        "\n",
        "- **Numpy:** Es la biblioteca fundamental para la computación científica con Python. Proporciona un objeto de matriz multidimensional y herramientas para trabajar con estas matrices.\n",
        "\n",
        "- **Pandas:** Es una biblioteca que proporciona estructuras de datos y funciones de alto nivel para facilitar la manipulación y análisis de datos. Pandas se integra bien con otras bibliotecas de Python como Numpy y Matplotlib.\n",
        "\n",
        "- **Matplotlib:** Es la biblioteca de trazado más utilizada en Python. Permite crear una gran variedad de gráficos y visualizaciones con control completo sobre los estilos y propiedades de los gráficos.\n",
        "\n",
        "- **Seaborn:** Basado en Matplotlib, Seaborn proporciona una interfaz de alto nivel para crear gráficos estadísticos atractivos. Seaborn trabaja bien con los DataFrames de Pandas, lo que facilita la visualización de datos.\n",
        "\n",
        "Estas bibliotecas juntas forman una poderosa caja de herramientas para cualquier científico de datos o profesional de Machine Learning.\n"
      ]
    },
    {
      "cell_type": "code",
      "execution_count": null,
      "id": "8c37a9ca",
      "metadata": {
        "colab": {
          "base_uri": "https://localhost:8080/"
        },
        "id": "8c37a9ca",
        "outputId": "b273eb76-b6c5-41fb-a86c-e0bc0409f7f5"
      },
      "outputs": [
        {
          "output_type": "stream",
          "name": "stdout",
          "text": [
            "Looking in indexes: https://pypi.org/simple, https://us-python.pkg.dev/colab-wheels/public/simple/\n",
            "Requirement already satisfied: pandas in /usr/local/lib/python3.10/dist-packages (1.5.3)\n",
            "Requirement already satisfied: python-dateutil>=2.8.1 in /usr/local/lib/python3.10/dist-packages (from pandas) (2.8.2)\n",
            "Requirement already satisfied: pytz>=2020.1 in /usr/local/lib/python3.10/dist-packages (from pandas) (2022.7.1)\n",
            "Requirement already satisfied: numpy>=1.21.0 in /usr/local/lib/python3.10/dist-packages (from pandas) (1.22.4)\n",
            "Requirement already satisfied: six>=1.5 in /usr/local/lib/python3.10/dist-packages (from python-dateutil>=2.8.1->pandas) (1.16.0)\n"
          ]
        }
      ],
      "source": [
        "!pip install pandas"
      ]
    },
    {
      "cell_type": "code",
      "execution_count": null,
      "id": "d39c18a8",
      "metadata": {
        "id": "d39c18a8"
      },
      "outputs": [],
      "source": [
        "# importamos los modulos que vamos a necesitar\n",
        "import matplotlib.pyplot as plt\n",
        "import pandas as pd\n",
        "import seaborn as sns\n",
        "import numpy as np\n",
        "\n",
        "plt.rcParams['figure.figsize'] = [10, 8] # Opcional: seteamos el tamaño de las imagenes\n",
        "# para visualizar los gráficos dentro de la notebook\n",
        "%matplotlib inline"
      ]
    },
    {
      "cell_type": "markdown",
      "id": "239d38cb",
      "metadata": {
        "id": "239d38cb"
      },
      "source": [
        "### Aleatoriedad\n",
        "Cuando lidiamos con data, siempre es importante tener a manos maneras de generar numeros aleatorios, ya sea para elegir muestras y no generar sesgos, o por otra razón. En python, tenemos modulos específicos para hacer eso, pero también dentro de numpy tenemos el submodulo random."
      ]
    },
    {
      "cell_type": "code",
      "execution_count": null,
      "id": "29d6ba91",
      "metadata": {
        "id": "29d6ba91"
      },
      "outputs": [],
      "source": [
        "# Simular el lanzamiento de un dado\n",
        "die_faces = [1,2,3,4,5,6]\n",
        "\n",
        "# Creemos un generador aleatorio. El valor `seed`\n",
        "# es un número utilizado para inicializar un generador de\n",
        "# números pseudoaleatorios. Nos permitirá obtener resultados\n",
        "# reproducibles si queremos ejecutar el experimento de nuevo.\n",
        "rng = np.random.RandomState(seed=23)\n"
      ]
    },
    {
      "cell_type": "code",
      "execution_count": null,
      "id": "c3377308",
      "metadata": {
        "colab": {
          "base_uri": "https://localhost:8080/"
        },
        "id": "c3377308",
        "outputId": "55af64fd-761f-454e-af52-b22186d5543c"
      },
      "outputs": [
        {
          "output_type": "execute_result",
          "data": {
            "text/plain": [
              "array([4])"
            ]
          },
          "metadata": {},
          "execution_count": 55
        }
      ],
      "source": [
        "# Elegimos al azar uno de los lados del dado ...\n",
        "choice = rng.choice(die_faces, size=1)\n",
        "choice"
      ]
    },
    {
      "cell_type": "markdown",
      "id": "e455a628",
      "metadata": {
        "id": "e455a628"
      },
      "source": [
        "### seaborn y pyplot\n",
        "Podemos pasar todo el dia viendo las distintas cosas que se pueden hacer con seaborn y pyplot, pero usemos el poder de google, y por que no, de chatGPT (u otros LLMs). Como guia genera, aqui estan algunas de las funcionalidades básicas de seaborn:\n",
        "[seaborn](https://seaborn.pydata.org/tutorial/introduction.html)\n"
      ]
    },
    {
      "cell_type": "code",
      "execution_count": null,
      "id": "0b603652",
      "metadata": {
        "colab": {
          "base_uri": "https://localhost:8080/"
        },
        "id": "0b603652",
        "outputId": "2d7ae368-2f2e-4739-9447-7127cd02d544"
      },
      "outputs": [
        {
          "output_type": "display_data",
          "data": {
            "text/plain": [
              "<Figure size 1000x800 with 1 Axes>"
            ],
            "image/png": "[encoded data removed]"
          },
          "metadata": {}
        }
      ],
      "source": [
        "# Distribucion de probabilidad teorica para un dado\n",
        "sns.histplot([1,2,3,4,5,6], bins=list(range(1,8)), stat='probability').set_title(f'Probability Distribution')\n",
        "plt.show()"
      ]
    },
    {
      "cell_type": "code",
      "execution_count": null,
      "id": "ac92bd7e",
      "metadata": {
        "colab": {
          "base_uri": "https://localhost:8080/"
        },
        "id": "ac92bd7e",
        "outputId": "73bcc98f-5a8f-40de-b990-87ee5ea37c7c"
      },
      "outputs": [
        {
          "output_type": "stream",
          "name": "stdout",
          "text": [
            "Generamos un objeto de tipo <class 'numpy.ndarray'>\n",
            "Cuyos valores son los siguientes:\n",
            "[4 1 2 1 6 5 4 3 2 4 4 6 5 2 3 4 6 6 1 5 6 1 2 3 2 4 2 4 5 2 2 5 4 4 5 3 2\n",
            " 3 3 5 6 4 1 1 6 5 1 6 1 3 5 1 4 1 3 3 6 4 2 5 4 3 3 4 6 6 5 4 1 6 1 5 5 4\n",
            " 2 2 5 3 6 2 6 1 2 3 1 6 4 3 6 3 5 6 1 3 6 4 2 1 4 3]\n"
          ]
        }
      ],
      "source": [
        "# Generamos una distribucion de 100 muestras\n",
        "rng = np.random.RandomState(seed=23)\n",
        "num_samples = 100\n",
        "x = rng.choice([1,2,3,4,5,6], num_samples)\n",
        "print(f\"Generamos un objeto de tipo {type(x)}\")\n",
        "print(\"Cuyos valores son los siguientes:\")\n",
        "print(x)"
      ]
    },
    {
      "cell_type": "code",
      "execution_count": null,
      "id": "cc6b445c",
      "metadata": {
        "colab": {
          "base_uri": "https://localhost:8080/"
        },
        "id": "cc6b445c",
        "outputId": "b55692e5-b96f-4ff4-c25d-a98e2f36c270"
      },
      "outputs": [
        {
          "output_type": "display_data",
          "data": {
            "text/plain": [
              "<Figure size 1000x800 with 1 Axes>"
            ],
            "image/png": "[encoded data removed]"
          },
          "metadata": {}
        }
      ],
      "source": [
        "# Ahora les damos esos datos empiricos a sns.histoplot. Estamos reemplazando la lista \"teorica\": [1,2,3,4,5,6]\n",
        "# con la lista generada\n",
        "sns.histplot(x, bins=list(range(1,8)), stat='probability').set_title(f'Distribution from {num_samples} samples')\n",
        "plt.show()"
      ]
    },
    {
      "cell_type": "markdown",
      "id": "14c12b1f",
      "metadata": {
        "id": "14c12b1f"
      },
      "source": [
        "Pueden probar generando varias veces, y jueguen con el numero de parametros. Mientras menos tenemos, mas azarozo sera."
      ]
    },
    {
      "cell_type": "code",
      "execution_count": null,
      "id": "22f39e7e",
      "metadata": {
        "colab": {
          "base_uri": "https://localhost:8080/"
        },
        "id": "22f39e7e",
        "outputId": "2cea53a4-4eaf-45b2-8784-67d1bd5d7d95"
      },
      "outputs": [
        {
          "output_type": "display_data",
          "data": {
            "text/plain": [
              "<Figure size 1000x800 with 1 Axes>"
            ],
            "image/png": "[encoded data removed]"
          },
          "metadata": {}
        }
      ],
      "source": [
        "# 100000 muestras\n",
        "rng = np.random.RandomState(seed=1)\n",
        "num_samples = 100000\n",
        "x = rng.choice([1,2,3,4,5,6], num_samples)\n",
        "sns.histplot(x, bins=list(range(1,8)), stat='probability').set_title(f'Distribution from {num_samples} samples')\n",
        "plt.show()\n"
      ]
    },
    {
      "cell_type": "markdown",
      "id": "aba39e0f",
      "metadata": {
        "id": "aba39e0f"
      },
      "source": [
        "Aqui el histograma se parece mas al contenido \"teorico\""
      ]
    },
    {
      "cell_type": "markdown",
      "id": "25c39047",
      "metadata": {
        "id": "25c39047"
      },
      "source": [
        "### Un ejemplo con datos reales\n",
        "#### Pandas\n",
        "El objeto escencial que van a usar en pandas es el \"dataframe\". Esto lo vamos a utilizar para visualizar y explorar datos.\n",
        "Pueden pensar en un dataframe como una tabla, compuesta por columnas, que son \"series\", que es el segundo objeto mas utilizado en pandas.\n",
        "En el caso que van a ver, \"Home\", \"Price\", \"SqFt\", \"Bedrooms\", \"Bathrooms\", \"Offers\", \"Brick, y \"Neighborhood\" son las series.\n",
        "Cada serie tiene un \"tipo\" Python (es decir, pueden ser numeros, o caracteres, u otra cosa, pero no una mezcla)"
      ]
    },
    {
      "cell_type": "markdown",
      "id": "e9b94466",
      "metadata": {
        "id": "e9b94466"
      },
      "source": [
        "###"
      ]
    },
    {
      "cell_type": "code",
      "execution_count": null,
      "id": "99f9028f",
      "metadata": {
        "colab": {
          "base_uri": "https://localhost:8080/"
        },
        "id": "99f9028f",
        "outputId": "c449aa6e-9461-4d18-8407-f5c74fc63d28"
      },
      "outputs": [
        {
          "output_type": "execute_result",
          "data": {
            "text/plain": [
              "    Home   Price  SqFt  Bedrooms  Bathrooms  Offers Brick Neighborhood\n",
              "0      1  114300  1790         2          2       2    No         East\n",
              "1      2  114200  2030         4          2       3    No         East\n",
              "2      3  114800  1740         3          2       1    No         East\n",
              "3      4   94700  1980         3          2       3    No         East\n",
              "4      5  119800  2130         3          3       3    No         East\n",
              "5      6  114600  1780         3          2       2    No        North\n",
              "6      7  151600  1830         3          3       3   Yes         West\n",
              "7      8  150700  2160         4          2       2    No         West\n",
              "8      9  119200  2110         4          2       3    No         East\n",
              "9     10  104000  1730         3          3       3    No         East\n",
              "10    11  132500  2030         3          2       3   Yes         East\n",
              "11    12  123000  1870         2          2       2   Yes         East\n",
              "12    13  102600  1910         3          2       4    No        North\n",
              "13    14  126300  2150         3          3       5   Yes        North\n",
              "14    15  176800  2590         4          3       4    No         West\n",
              "15    16  145800  1780         4          2       1    No         West\n",
              "16    17  147100  2190         3          3       4   Yes         East\n",
              "17    18   83600  1990         3          3       4    No        North\n",
              "18    19  111400  1700         2          2       1   Yes         East\n",
              "19    20  167200  1920         3          3       2   Yes         West"
            ],
            "text/html": [
              "\n",
              "  <div id=\"df-09c8afdc-12b2-4a3b-963b-4bb2a3b296cf\">\n",
              "    <div class=\"colab-df-container\">\n",
              "      <div>\n",
              "<style scoped>\n",
              "    .dataframe tbody tr th:only-of-type {\n",
              "        vertical-align: middle;\n",
              "    }\n",
              "\n",
              "    .dataframe tbody tr th {\n",
              "        vertical-align: top;\n",
              "    }\n",
              "\n",
              "    .dataframe thead th {\n",
              "        text-align: right;\n",
              "    }\n",
              "</style>\n",
              "<table border=\"1\" class=\"dataframe\">\n",
              "  <thead>\n",
              "    <tr style=\"text-align: right;\">\n",
              "      <th></th>\n",
              "      <th>Home</th>\n",
              "      <th>Price</th>\n",
              "      <th>SqFt</th>\n",
              "      <th>Bedrooms</th>\n",
              "      <th>Bathrooms</th>\n",
              "      <th>Offers</th>\n",
              "      <th>Brick</th>\n",
              "      <th>Neighborhood</th>\n",
              "    </tr>\n",
              "  </thead>\n",
              "  <tbody>\n",
              "    <tr>\n",
              "      <th>0</th>\n",
              "      <td>1</td>\n",
              "      <td>114300</td>\n",
              "      <td>1790</td>\n",
              "      <td>2</td>\n",
              "      <td>2</td>\n",
              "      <td>2</td>\n",
              "      <td>No</td>\n",
              "      <td>East</td>\n",
              "    </tr>\n",
              "    <tr>\n",
              "      <th>1</th>\n",
              "      <td>2</td>\n",
              "      <td>114200</td>\n",
              "      <td>2030</td>\n",
              "      <td>4</td>\n",
              "      <td>2</td>\n",
              "      <td>3</td>\n",
              "      <td>No</td>\n",
              "      <td>East</td>\n",
              "    </tr>\n",
              "    <tr>\n",
              "      <th>2</th>\n",
              "      <td>3</td>\n",
              "      <td>114800</td>\n",
              "      <td>1740</td>\n",
              "      <td>3</td>\n",
              "      <td>2</td>\n",
              "      <td>1</td>\n",
              "      <td>No</td>\n",
              "      <td>East</td>\n",
              "    </tr>\n",
              "    <tr>\n",
              "      <th>3</th>\n",
              "      <td>4</td>\n",
              "      <td>94700</td>\n",
              "      <td>1980</td>\n",
              "      <td>3</td>\n",
              "      <td>2</td>\n",
              "      <td>3</td>\n",
              "      <td>No</td>\n",
              "      <td>East</td>\n",
              "    </tr>\n",
              "    <tr>\n",
              "      <th>4</th>\n",
              "      <td>5</td>\n",
              "      <td>119800</td>\n",
              "      <td>2130</td>\n",
              "      <td>3</td>\n",
              "      <td>3</td>\n",
              "      <td>3</td>\n",
              "      <td>No</td>\n",
              "      <td>East</td>\n",
              "    </tr>\n",
              "    <tr>\n",
              "      <th>5</th>\n",
              "      <td>6</td>\n",
              "      <td>114600</td>\n",
              "      <td>1780</td>\n",
              "      <td>3</td>\n",
              "      <td>2</td>\n",
              "      <td>2</td>\n",
              "      <td>No</td>\n",
              "      <td>North</td>\n",
              "    </tr>\n",
              "    <tr>\n",
              "      <th>6</th>\n",
              "      <td>7</td>\n",
              "      <td>151600</td>\n",
              "      <td>1830</td>\n",
              "      <td>3</td>\n",
              "      <td>3</td>\n",
              "      <td>3</td>\n",
              "      <td>Yes</td>\n",
              "      <td>West</td>\n",
              "    </tr>\n",
              "    <tr>\n",
              "      <th>7</th>\n",
              "      <td>8</td>\n",
              "      <td>150700</td>\n",
              "      <td>2160</td>\n",
              "      <td>4</td>\n",
              "      <td>2</td>\n",
              "      <td>2</td>\n",
              "      <td>No</td>\n",
              "      <td>West</td>\n",
              "    </tr>\n",
              "    <tr>\n",
              "      <th>8</th>\n",
              "      <td>9</td>\n",
              "      <td>119200</td>\n",
              "      <td>2110</td>\n",
              "      <td>4</td>\n",
              "      <td>2</td>\n",
              "      <td>3</td>\n",
              "      <td>No</td>\n",
              "      <td>East</td>\n",
              "    </tr>\n",
              "    <tr>\n",
              "      <th>9</th>\n",
              "      <td>10</td>\n",
              "      <td>104000</td>\n",
              "      <td>1730</td>\n",
              "      <td>3</td>\n",
              "      <td>3</td>\n",
              "      <td>3</td>\n",
              "      <td>No</td>\n",
              "      <td>East</td>\n",
              "    </tr>\n",
              "    <tr>\n",
              "      <th>10</th>\n",
              "      <td>11</td>\n",
              "      <td>132500</td>\n",
              "      <td>2030</td>\n",
              "      <td>3</td>\n",
              "      <td>2</td>\n",
              "      <td>3</td>\n",
              "      <td>Yes</td>\n",
              "      <td>East</td>\n",
              "    </tr>\n",
              "    <tr>\n",
              "      <th>11</th>\n",
              "      <td>12</td>\n",
              "      <td>123000</td>\n",
              "      <td>1870</td>\n",
              "      <td>2</td>\n",
              "      <td>2</td>\n",
              "      <td>2</td>\n",
              "      <td>Yes</td>\n",
              "      <td>East</td>\n",
              "    </tr>\n",
              "    <tr>\n",
              "      <th>12</th>\n",
              "      <td>13</td>\n",
              "      <td>102600</td>\n",
              "      <td>1910</td>\n",
              "      <td>3</td>\n",
              "      <td>2</td>\n",
              "      <td>4</td>\n",
              "      <td>No</td>\n",
              "      <td>North</td>\n",
              "    </tr>\n",
              "    <tr>\n",
              "      <th>13</th>\n",
              "      <td>14</td>\n",
              "      <td>126300</td>\n",
              "      <td>2150</td>\n",
              "      <td>3</td>\n",
              "      <td>3</td>\n",
              "      <td>5</td>\n",
              "      <td>Yes</td>\n",
              "      <td>North</td>\n",
              "    </tr>\n",
              "    <tr>\n",
              "      <th>14</th>\n",
              "      <td>15</td>\n",
              "      <td>176800</td>\n",
              "      <td>2590</td>\n",
              "      <td>4</td>\n",
              "      <td>3</td>\n",
              "      <td>4</td>\n",
              "      <td>No</td>\n",
              "      <td>West</td>\n",
              "    </tr>\n",
              "    <tr>\n",
              "      <th>15</th>\n",
              "      <td>16</td>\n",
              "      <td>145800</td>\n",
              "      <td>1780</td>\n",
              "      <td>4</td>\n",
              "      <td>2</td>\n",
              "      <td>1</td>\n",
              "      <td>No</td>\n",
              "      <td>West</td>\n",
              "    </tr>\n",
              "    <tr>\n",
              "      <th>16</th>\n",
              "      <td>17</td>\n",
              "      <td>147100</td>\n",
              "      <td>2190</td>\n",
              "      <td>3</td>\n",
              "      <td>3</td>\n",
              "      <td>4</td>\n",
              "      <td>Yes</td>\n",
              "      <td>East</td>\n",
              "    </tr>\n",
              "    <tr>\n",
              "      <th>17</th>\n",
              "      <td>18</td>\n",
              "      <td>83600</td>\n",
              "      <td>1990</td>\n",
              "      <td>3</td>\n",
              "      <td>3</td>\n",
              "      <td>4</td>\n",
              "      <td>No</td>\n",
              "      <td>North</td>\n",
              "    </tr>\n",
              "    <tr>\n",
              "      <th>18</th>\n",
              "      <td>19</td>\n",
              "      <td>111400</td>\n",
              "      <td>1700</td>\n",
              "      <td>2</td>\n",
              "      <td>2</td>\n",
              "      <td>1</td>\n",
              "      <td>Yes</td>\n",
              "      <td>East</td>\n",
              "    </tr>\n",
              "    <tr>\n",
              "      <th>19</th>\n",
              "      <td>20</td>\n",
              "      <td>167200</td>\n",
              "      <td>1920</td>\n",
              "      <td>3</td>\n",
              "      <td>3</td>\n",
              "      <td>2</td>\n",
              "      <td>Yes</td>\n",
              "      <td>West</td>\n",
              "    </tr>\n",
              "  </tbody>\n",
              "</table>\n",
              "</div>\n",
              "      <button class=\"colab-df-convert\" onclick=\"convertToInteractive('df-09c8afdc-12b2-4a3b-963b-4bb2a3b296cf')\"\n",
              "              title=\"Convert this dataframe to an interactive table.\"\n",
              "              style=\"display:none;\">\n",
              "        \n",
              "  <svg xmlns=\"http://www.w3.org/2000/svg\" height=\"24px\"viewBox=\"0 0 24 24\"\n",
              "       width=\"24px\">\n",
              "    <path d=\"M0 0h24v24H0V0z\" fill=\"none\"/>\n",
              "    <path d=\"M18.56 5.44l.94 2.06.94-2.06 2.06-.94-2.06-.94-.94-2.06-.94 2.06-2.06.94zm-11 1L8.5 8.5l.94-2.06 2.06-.94-2.06-.94L8.5 2.5l-.94 2.06-2.06.94zm10 10l.94 2.06.94-2.06 2.06-.94-2.06-.94-.94-2.06-.94 2.06-2.06.94z\"/><path d=\"M17.41 7.96l-1.37-1.37c-.4-.4-.92-.59-1.43-.59-.52 0-1.04.2-1.43.59L10.3 9.45l-7.72 7.72c-.78.78-.78 2.05 0 2.83L4 21.41c.39.39.9.59 1.41.59.51 0 1.02-.2 1.41-.59l7.78-7.78 2.81-2.81c.8-.78.8-2.07 0-2.86zM5.41 20L4 18.59l7.72-7.72 1.47 1.35L5.41 20z\"/>\n",
              "  </svg>\n",
              "      </button>\n",
              "      \n",
              "  <style>\n",
              "    .colab-df-container {\n",
              "      display:flex;\n",
              "      flex-wrap:wrap;\n",
              "      gap: 12px;\n",
              "    }\n",
              "\n",
              "    .colab-df-convert {\n",
              "      background-color: #E8F0FE;\n",
              "      border: none;\n",
              "      border-radius: 50%;\n",
              "      cursor: pointer;\n",
              "      display: none;\n",
              "      fill: #1967D2;\n",
              "      height: 32px;\n",
              "      padding: 0 0 0 0;\n",
              "      width: 32px;\n",
              "    }\n",
              "\n",
              "    .colab-df-convert:hover {\n",
              "      background-color: #E2EBFA;\n",
              "      box-shadow: 0px 1px 2px rgba(60, 64, 67, 0.3), 0px 1px 3px 1px rgba(60, 64, 67, 0.15);\n",
              "      fill: #174EA6;\n",
              "    }\n",
              "\n",
              "    [theme=dark] .colab-df-convert {\n",
              "      background-color: #3B4455;\n",
              "      fill: #D2E3FC;\n",
              "    }\n",
              "\n",
              "    [theme=dark] .colab-df-convert:hover {\n",
              "      background-color: #434B5C;\n",
              "      box-shadow: 0px 1px 3px 1px rgba(0, 0, 0, 0.15);\n",
              "      filter: drop-shadow(0px 1px 2px rgba(0, 0, 0, 0.3));\n",
              "      fill: #FFFFFF;\n",
              "    }\n",
              "  </style>\n",
              "\n",
              "      <script>\n",
              "        const buttonEl =\n",
              "          document.querySelector('#df-09c8afdc-12b2-4a3b-963b-4bb2a3b296cf button.colab-df-convert');\n",
              "        buttonEl.style.display =\n",
              "          google.colab.kernel.accessAllowed ? 'block' : 'none';\n",
              "\n",
              "        async function convertToInteractive(key) {\n",
              "          const element = document.querySelector('#df-09c8afdc-12b2-4a3b-963b-4bb2a3b296cf');\n",
              "          const dataTable =\n",
              "            await google.colab.kernel.invokeFunction('convertToInteractive',\n",
              "                                                     [key], {});\n",
              "          if (!dataTable) return;\n",
              "\n",
              "          const docLinkHtml = 'Like what you see? Visit the ' +\n",
              "            '<a target=\"_blank\" href=https://colab.research.google.com/notebooks/data_table.ipynb>data table notebook</a>'\n",
              "            + ' to learn more about interactive tables.';\n",
              "          element.innerHTML = '';\n",
              "          dataTable['output_type'] = 'display_data';\n",
              "          await google.colab.output.renderOutput(dataTable, element);\n",
              "          const docLink = document.createElement('div');\n",
              "          docLink.innerHTML = docLinkHtml;\n",
              "          element.appendChild(docLink);\n",
              "        }\n",
              "      </script>\n",
              "    </div>\n",
              "  </div>\n",
              "  "
            ]
          },
          "metadata": {},
          "execution_count": 60
        }
      ],
      "source": [
        "# Bajamos los datos de una pagina web, utiliando `read_csv` de pandas\n",
        "hp = pd.read_csv('https://raw.githubusercontent.com/anyoneai/notebooks/main/datasets/house-prices.csv')\n",
        "# Le echamos un vistazo con el metodo `head`\n",
        "hp.head(20)\n"
      ]
    },
    {
      "cell_type": "code",
      "execution_count": null,
      "id": "5e9873c9",
      "metadata": {
        "colab": {
          "base_uri": "https://localhost:8080/"
        },
        "id": "5e9873c9",
        "outputId": "0e42c4db-debe-4e69-8b5a-7a14315414b1"
      },
      "outputs": [
        {
          "output_type": "execute_result",
          "data": {
            "text/plain": [
              "0    East\n",
              "Name: Neighborhood, dtype: object"
            ]
          },
          "metadata": {},
          "execution_count": 61
        }
      ],
      "source": [
        "hp['Neighborhood'].mode()"
      ]
    },
    {
      "cell_type": "code",
      "execution_count": null,
      "id": "0e57ec1c",
      "metadata": {
        "colab": {
          "base_uri": "https://localhost:8080/"
        },
        "id": "0e57ec1c",
        "outputId": "7c568d91-4351-4bc0-bbfa-7c88b16b1daa"
      },
      "outputs": [
        {
          "output_type": "stream",
          "name": "stdout",
          "text": [
            "Tenemos datos sobre 128 casas\n",
            "El precio promedio es 130427.34375\n",
            "La moda es East\n"
          ]
        }
      ],
      "source": [
        "# que tamano tiene esto?\n",
        "print(f\"Tenemos datos sobre {len(hp)} casas\")\n",
        "# Cual es el precio promedio? utilizamos el metodo mean de pandas.\n",
        "# Recuerden que siempre podemos buscar estos metodos en Goole\n",
        "print(f\"El precio promedio es {hp['Price'].mean()}\")\n",
        "# Cual es la moda?\n",
        "mode = hp['Neighborhood'].mode()[0] # el metodo moda nos da una serie. Asi que accedemos a su primer elemento\n",
        "print(f\"La moda es {mode}\")"
      ]
    },
    {
      "cell_type": "code",
      "execution_count": null,
      "id": "c83d9285",
      "metadata": {
        "colab": {
          "base_uri": "https://localhost:8080/"
        },
        "id": "c83d9285",
        "outputId": "ab8c4fc9-0464-4fca-ec4d-f4afdd7cd0fb"
      },
      "outputs": [
        {
          "output_type": "execute_result",
          "data": {
            "text/plain": [
              "'East'"
            ],
            "application/vnd.google.colaboratory.intrinsic+json": {
              "type": "string"
            }
          },
          "metadata": {},
          "execution_count": 63
        }
      ],
      "source": [
        "hp['Neighborhood'].mode()[0]"
      ]
    },
    {
      "cell_type": "code",
      "execution_count": null,
      "id": "be1c5ee3",
      "metadata": {
        "colab": {
          "base_uri": "https://localhost:8080/"
        },
        "id": "be1c5ee3",
        "outputId": "3980809e-b3f2-46c2-aa40-5a41df9f28a8"
      },
      "outputs": [
        {
          "output_type": "display_data",
          "data": {
            "text/plain": [
              "<Figure size 1000x800 with 1 Axes>"
            ],
            "image/png": "[encoded data removed]"
          },
          "metadata": {}
        }
      ],
      "source": [
        "# juguemos con los datos y seaborn\n",
        "fig = sns.countplot(data=hp, x='Neighborhood', palette='Paired')\n",
        "plt.show()\n",
        "# Pueden encontrar mas colores en https://matplotlib.org/stable/tutorials/colors/colormaps.html"
      ]
    },
    {
      "cell_type": "code",
      "execution_count": null,
      "id": "96661be3",
      "metadata": {
        "colab": {
          "base_uri": "https://localhost:8080/"
        },
        "id": "96661be3",
        "outputId": "d107c9a8-fa44-4078-b9d7-f043be83b4ec"
      },
      "outputs": [
        {
          "output_type": "execute_result",
          "data": {
            "text/plain": [
              "   Home   Price  SqFt  Bedrooms  Bathrooms  Offers Brick Neighborhood\n",
              "0     1  114300  1790         2          2       2    No         East\n",
              "1     2  114200  2030         4          2       3    No         East\n",
              "2     3  114800  1740         3          2       1    No         East\n",
              "3     4   94700  1980         3          2       3    No         East\n",
              "4     5  119800  2130         3          3       3    No         East"
            ],
            "text/html": [
              "\n",
              "  <div id=\"df-daebe7a9-1801-4042-9371-f2ee7e8c6547\">\n",
              "    <div class=\"colab-df-container\">\n",
              "      <div>\n",
              "<style scoped>\n",
              "    .dataframe tbody tr th:only-of-type {\n",
              "        vertical-align: middle;\n",
              "    }\n",
              "\n",
              "    .dataframe tbody tr th {\n",
              "        vertical-align: top;\n",
              "    }\n",
              "\n",
              "    .dataframe thead th {\n",
              "        text-align: right;\n",
              "    }\n",
              "</style>\n",
              "<table border=\"1\" class=\"dataframe\">\n",
              "  <thead>\n",
              "    <tr style=\"text-align: right;\">\n",
              "      <th></th>\n",
              "      <th>Home</th>\n",
              "      <th>Price</th>\n",
              "      <th>SqFt</th>\n",
              "      <th>Bedrooms</th>\n",
              "      <th>Bathrooms</th>\n",
              "      <th>Offers</th>\n",
              "      <th>Brick</th>\n",
              "      <th>Neighborhood</th>\n",
              "    </tr>\n",
              "  </thead>\n",
              "  <tbody>\n",
              "    <tr>\n",
              "      <th>0</th>\n",
              "      <td>1</td>\n",
              "      <td>114300</td>\n",
              "      <td>1790</td>\n",
              "      <td>2</td>\n",
              "      <td>2</td>\n",
              "      <td>2</td>\n",
              "      <td>No</td>\n",
              "      <td>East</td>\n",
              "    </tr>\n",
              "    <tr>\n",
              "      <th>1</th>\n",
              "      <td>2</td>\n",
              "      <td>114200</td>\n",
              "      <td>2030</td>\n",
              "      <td>4</td>\n",
              "      <td>2</td>\n",
              "      <td>3</td>\n",
              "      <td>No</td>\n",
              "      <td>East</td>\n",
              "    </tr>\n",
              "    <tr>\n",
              "      <th>2</th>\n",
              "      <td>3</td>\n",
              "      <td>114800</td>\n",
              "      <td>1740</td>\n",
              "      <td>3</td>\n",
              "      <td>2</td>\n",
              "      <td>1</td>\n",
              "      <td>No</td>\n",
              "      <td>East</td>\n",
              "    </tr>\n",
              "    <tr>\n",
              "      <th>3</th>\n",
              "      <td>4</td>\n",
              "      <td>94700</td>\n",
              "      <td>1980</td>\n",
              "      <td>3</td>\n",
              "      <td>2</td>\n",
              "      <td>3</td>\n",
              "      <td>No</td>\n",
              "      <td>East</td>\n",
              "    </tr>\n",
              "    <tr>\n",
              "      <th>4</th>\n",
              "      <td>5</td>\n",
              "      <td>119800</td>\n",
              "      <td>2130</td>\n",
              "      <td>3</td>\n",
              "      <td>3</td>\n",
              "      <td>3</td>\n",
              "      <td>No</td>\n",
              "      <td>East</td>\n",
              "    </tr>\n",
              "  </tbody>\n",
              "</table>\n",
              "</div>\n",
              "      <button class=\"colab-df-convert\" onclick=\"convertToInteractive('df-daebe7a9-1801-4042-9371-f2ee7e8c6547')\"\n",
              "              title=\"Convert this dataframe to an interactive table.\"\n",
              "              style=\"display:none;\">\n",
              "        \n",
              "  <svg xmlns=\"http://www.w3.org/2000/svg\" height=\"24px\"viewBox=\"0 0 24 24\"\n",
              "       width=\"24px\">\n",
              "    <path d=\"M0 0h24v24H0V0z\" fill=\"none\"/>\n",
              "    <path d=\"M18.56 5.44l.94 2.06.94-2.06 2.06-.94-2.06-.94-.94-2.06-.94 2.06-2.06.94zm-11 1L8.5 8.5l.94-2.06 2.06-.94-2.06-.94L8.5 2.5l-.94 2.06-2.06.94zm10 10l.94 2.06.94-2.06 2.06-.94-2.06-.94-.94-2.06-.94 2.06-2.06.94z\"/><path d=\"M17.41 7.96l-1.37-1.37c-.4-.4-.92-.59-1.43-.59-.52 0-1.04.2-1.43.59L10.3 9.45l-7.72 7.72c-.78.78-.78 2.05 0 2.83L4 21.41c.39.39.9.59 1.41.59.51 0 1.02-.2 1.41-.59l7.78-7.78 2.81-2.81c.8-.78.8-2.07 0-2.86zM5.41 20L4 18.59l7.72-7.72 1.47 1.35L5.41 20z\"/>\n",
              "  </svg>\n",
              "      </button>\n",
              "      \n",
              "  <style>\n",
              "    .colab-df-container {\n",
              "      display:flex;\n",
              "      flex-wrap:wrap;\n",
              "      gap: 12px;\n",
              "    }\n",
              "\n",
              "    .colab-df-convert {\n",
              "      background-color: #E8F0FE;\n",
              "      border: none;\n",
              "      border-radius: 50%;\n",
              "      cursor: pointer;\n",
              "      display: none;\n",
              "      fill: #1967D2;\n",
              "      height: 32px;\n",
              "      padding: 0 0 0 0;\n",
              "      width: 32px;\n",
              "    }\n",
              "\n",
              "    .colab-df-convert:hover {\n",
              "      background-color: #E2EBFA;\n",
              "      box-shadow: 0px 1px 2px rgba(60, 64, 67, 0.3), 0px 1px 3px 1px rgba(60, 64, 67, 0.15);\n",
              "      fill: #174EA6;\n",
              "    }\n",
              "\n",
              "    [theme=dark] .colab-df-convert {\n",
              "      background-color: #3B4455;\n",
              "      fill: #D2E3FC;\n",
              "    }\n",
              "\n",
              "    [theme=dark] .colab-df-convert:hover {\n",
              "      background-color: #434B5C;\n",
              "      box-shadow: 0px 1px 3px 1px rgba(0, 0, 0, 0.15);\n",
              "      filter: drop-shadow(0px 1px 2px rgba(0, 0, 0, 0.3));\n",
              "      fill: #FFFFFF;\n",
              "    }\n",
              "  </style>\n",
              "\n",
              "      <script>\n",
              "        const buttonEl =\n",
              "          document.querySelector('#df-daebe7a9-1801-4042-9371-f2ee7e8c6547 button.colab-df-convert');\n",
              "        buttonEl.style.display =\n",
              "          google.colab.kernel.accessAllowed ? 'block' : 'none';\n",
              "\n",
              "        async function convertToInteractive(key) {\n",
              "          const element = document.querySelector('#df-daebe7a9-1801-4042-9371-f2ee7e8c6547');\n",
              "          const dataTable =\n",
              "            await google.colab.kernel.invokeFunction('convertToInteractive',\n",
              "                                                     [key], {});\n",
              "          if (!dataTable) return;\n",
              "\n",
              "          const docLinkHtml = 'Like what you see? Visit the ' +\n",
              "            '<a target=\"_blank\" href=https://colab.research.google.com/notebooks/data_table.ipynb>data table notebook</a>'\n",
              "            + ' to learn more about interactive tables.';\n",
              "          element.innerHTML = '';\n",
              "          dataTable['output_type'] = 'display_data';\n",
              "          await google.colab.output.renderOutput(dataTable, element);\n",
              "          const docLink = document.createElement('div');\n",
              "          docLink.innerHTML = docLinkHtml;\n",
              "          element.appendChild(docLink);\n",
              "        }\n",
              "      </script>\n",
              "    </div>\n",
              "  </div>\n",
              "  "
            ]
          },
          "metadata": {},
          "execution_count": 65
        }
      ],
      "source": [
        "hp.head()"
      ]
    },
    {
      "cell_type": "code",
      "execution_count": null,
      "id": "83942b47",
      "metadata": {
        "colab": {
          "base_uri": "https://localhost:8080/"
        },
        "id": "83942b47",
        "outputId": "ed4ba550-570a-4524-ef13-3e2c82f8cf91"
      },
      "outputs": [
        {
          "output_type": "display_data",
          "data": {
            "text/plain": [
              "<Figure size 500x500 with 1 Axes>"
            ],
            "image/png": "[encoded data removed]"
          },
          "metadata": {}
        }
      ],
      "source": [
        "# Hagamos un histogrma del precio\n",
        "\n",
        "sns.displot(data=hp, x=\"SqFt\", kind=\"hist\").set(title='Precios de casas')\n",
        "plt.show()"
      ]
    },
    {
      "cell_type": "code",
      "execution_count": null,
      "id": "cb6bab2a",
      "metadata": {
        "colab": {
          "base_uri": "https://localhost:8080/"
        },
        "id": "cb6bab2a",
        "outputId": "c46fc845-aee3-4d80-bb23-60854e10e582"
      },
      "outputs": [
        {
          "output_type": "display_data",
          "data": {
            "text/plain": [
              "<Figure size 1000x800 with 1 Axes>"
            ],
            "image/png": "[encoded data removed]"
          },
          "metadata": {}
        }
      ],
      "source": [
        "# Podemos hacer un boxplot, que nos da una idea del rango, de los cuartiles, la mediana, etc.\n",
        "sns.boxplot(data=hp, y='Price')\n",
        "plt.show()"
      ]
    },
    {
      "cell_type": "markdown",
      "id": "8661d1d0",
      "metadata": {
        "id": "8661d1d0"
      },
      "source": [
        "No quiero perder mas el tiempo, ni tentarme con mas ejemplos pero les urjo que jueguen con algunos de las siguientes funciones, que pueden buscarlas en seaborn. Tambien tenemos ejemplos en algunos de los notebooks que subimos en otro lugar del curso:\n",
        "- scatterplot: representa los datos con puntos\n",
        "- violinplot: parecido a histograma, tambien al boxplot. Experimenten\n",
        "- displot: jueguen con el parametro fill=True, y kind=\"kde\"\n",
        "- displot: de vuelta, jueguen con parametro hue= \"pinta\" el grafico segun algun otra columna. Es una forma de incorporar mas informacion en una sola imagen"
      ]
    },
    {
      "cell_type": "code",
      "execution_count": null,
      "id": "4bdf19e5",
      "metadata": {
        "colab": {
          "base_uri": "https://localhost:8080/"
        },
        "id": "4bdf19e5",
        "outputId": "65ad0f7a-8869-412c-9c63-84b07da84f50"
      },
      "outputs": [
        {
          "output_type": "display_data",
          "data": {
            "text/plain": [
              "<Figure size 572.125x500 with 1 Axes>"
            ],
            "image/png": "[encoded data removed]"
          },
          "metadata": {}
        }
      ],
      "source": [
        "# Bueno, me tente, les muestro el hue\n",
        "sns.displot(data=hp, x=\"Price\", hue=\"Brick\", kind='kde', fill=True)\n",
        "plt.show()"
      ]
    },
    {
      "cell_type": "markdown",
      "id": "f4ecfab3",
      "metadata": {
        "id": "f4ecfab3"
      },
      "source": [
        "<a name='FeatureEngineering'></a>\n",
        "# Feature engineering\n"
      ]
    },
    {
      "cell_type": "markdown",
      "id": "d5b36b91",
      "metadata": {
        "id": "d5b36b91"
      },
      "source": [
        "# Introducción al Feature Engineering\n",
        "\n",
        "La clave para hacer buenos modelos de machine learning son datos. Necesitamos que los datos sean, escencialmente, abundantes.\n",
        "\n",
        "A diferencia de metodos estadisticos que pueden funcionar con relativamente pocos datos el ML es muy hambrientos de datos.\n",
        "\n",
        "Pero, una vez obtenidos los datos, es suficiente? Por lo general, no. Los datos en el mundo real suelen tener diversas fuentes, estar \"sucios\", no ser adecuados.\n",
        "\n",
        "Es comun, por ejemplo, que tengamos datos en distintos formatos (string, en vez de int, datos incompletos, etc).\n",
        "\n",
        "Consideremos los datos con los que venimos trabajando, por ejemplo. Que hubiera sucedido si alguien hubiera puesto un cero de mas en el precio? Tendriamos un precio exorbitante que puede cambiar radicalmente nuestros resultados. Y si en vez de un cero de mas hubiera introducido un signo menos? o una coma. Todas estas cosas y mas tenemos que tener en cuenta al hacer feature engineering.\n",
        "\n",
        "\n",
        "El Feature Engineering puede incluir técnicas como la normalización, la discretización, la creación de características interactivas, la codificación de variables categóricas, la imputación de valores perdidos y muchas otras. La elección de las técnicas a utilizar depende en gran medida de la naturaleza de los datos y del problema a resolver.\n",
        "\n",
        "En el curso siguiente veran mas en profundidad tecnicas para visualizar y preprocesar datos, pero introduzcamos algunos conceptos basicos, y modulos de python.\n",
        "\n",
        "\n",
        "\n",
        "## ¿Por qué elegir scikit-learn (sklearn) para el preprocesamiento de datos?\n",
        "\n",
        "Scikit-learn (o sklearn) es una de las bibliotecas más populares y completas para el Machine Learning en Python. Ofrece una amplia gama de algoritmos de aprendizaje supervisado y no supervisado, así como herramientas para el preprocesamiento de datos, la selección de modelos y la evaluación.\n",
        "\n",
        "Sklearn facilita el proceso de preprocesamiento de datos y el Feature Engineering gracias a su consistencia en la interfaz y a su eficiencia. Los métodos de sklearn están diseñados para integrarse de manera eficiente con otras bibliotecas de Python como NumPy y Pandas, lo que facilita la manipulación de datos.\n",
        "\n",
        "Entre los submódulos de sklearn que pueden ser útiles para el preprocesamiento de datos y el Feature Engineering, se incluyen:\n",
        "\n",
        "- **sklearn.preprocessing**: Este módulo incluye métodos para la estandarización, normalización, codificación de variables categóricas, etc.\n",
        "- **sklearn.impute**: Este módulo proporciona métodos para la imputación de valores perdidos.\n",
        "- **sklearn.feature_extraction**: Este módulo puede ser útil para convertir datos textuales o categóricos en representaciones numéricas que pueden ser usadas por los algoritmos de Machine Learning.\n",
        "- **sklearn.decomposition**: Este módulo incluye métodos para la reducción de dimensionalidad, como PCA.\n",
        "\n",
        "En resumen, el Feature Engineering es esencial para obtener el máximo rendimiento de nuestros modelos de Machine Learning, y sklearn es una herramienta excelente que nos ayuda a realizar esta tarea de manera eficiente y efectiva.\n"
      ]
    },
    {
      "cell_type": "code",
      "execution_count": null,
      "id": "d5ef2519",
      "metadata": {
        "colab": {
          "base_uri": "https://localhost:8080/"
        },
        "id": "d5ef2519",
        "outputId": "55c3e095-f67e-4706-915a-3ed8cf62d6e7"
      },
      "outputs": [
        {
          "output_type": "stream",
          "name": "stdout",
          "text": [
            "La longitud de esta base de datos es de 979\n"
          ]
        },
        {
          "output_type": "execute_result",
          "data": {
            "text/plain": [
              "   star_rating                     title content_rating   genre  duration  \\\n",
              "0          9.3  The Shawshank Redemption              R   Crime       NaN   \n",
              "1          NaN             The Godfather              R   Crime     175.0   \n",
              "2          9.1    The Godfather: Part II              R     NaN     200.0   \n",
              "3          9.0           The Dark Knight          PG-13  Action       NaN   \n",
              "4          8.9              Pulp Fiction              R   Crime     154.0   \n",
              "\n",
              "                                         actors_list  \n",
              "0  [u'Tim Robbins', u'Morgan Freeman', u'Bob Gunt...  \n",
              "1    [u'Marlon Brando', u'Al Pacino', u'James Caan']  \n",
              "2  [u'Al Pacino', u'Robert De Niro', u'Robert Duv...  \n",
              "3  [u'Christian Bale', u'Heath Ledger', u'Aaron E...  \n",
              "4  [u'John Travolta', u'Uma Thurman', u'Samuel L....  "
            ],
            "text/html": [
              "\n",
              "  <div id=\"df-2ded067c-0541-475f-bf06-7e6e8942045b\">\n",
              "    <div class=\"colab-df-container\">\n",
              "      <div>\n",
              "<style scoped>\n",
              "    .dataframe tbody tr th:only-of-type {\n",
              "        vertical-align: middle;\n",
              "    }\n",
              "\n",
              "    .dataframe tbody tr th {\n",
              "        vertical-align: top;\n",
              "    }\n",
              "\n",
              "    .dataframe thead th {\n",
              "        text-align: right;\n",
              "    }\n",
              "</style>\n",
              "<table border=\"1\" class=\"dataframe\">\n",
              "  <thead>\n",
              "    <tr style=\"text-align: right;\">\n",
              "      <th></th>\n",
              "      <th>star_rating</th>\n",
              "      <th>title</th>\n",
              "      <th>content_rating</th>\n",
              "      <th>genre</th>\n",
              "      <th>duration</th>\n",
              "      <th>actors_list</th>\n",
              "    </tr>\n",
              "  </thead>\n",
              "  <tbody>\n",
              "    <tr>\n",
              "      <th>0</th>\n",
              "      <td>9.3</td>\n",
              "      <td>The Shawshank Redemption</td>\n",
              "      <td>R</td>\n",
              "      <td>Crime</td>\n",
              "      <td>NaN</td>\n",
              "      <td>[u'Tim Robbins', u'Morgan Freeman', u'Bob Gunt...</td>\n",
              "    </tr>\n",
              "    <tr>\n",
              "      <th>1</th>\n",
              "      <td>NaN</td>\n",
              "      <td>The Godfather</td>\n",
              "      <td>R</td>\n",
              "      <td>Crime</td>\n",
              "      <td>175.0</td>\n",
              "      <td>[u'Marlon Brando', u'Al Pacino', u'James Caan']</td>\n",
              "    </tr>\n",
              "    <tr>\n",
              "      <th>2</th>\n",
              "      <td>9.1</td>\n",
              "      <td>The Godfather: Part II</td>\n",
              "      <td>R</td>\n",
              "      <td>NaN</td>\n",
              "      <td>200.0</td>\n",
              "      <td>[u'Al Pacino', u'Robert De Niro', u'Robert Duv...</td>\n",
              "    </tr>\n",
              "    <tr>\n",
              "      <th>3</th>\n",
              "      <td>9.0</td>\n",
              "      <td>The Dark Knight</td>\n",
              "      <td>PG-13</td>\n",
              "      <td>Action</td>\n",
              "      <td>NaN</td>\n",
              "      <td>[u'Christian Bale', u'Heath Ledger', u'Aaron E...</td>\n",
              "    </tr>\n",
              "    <tr>\n",
              "      <th>4</th>\n",
              "      <td>8.9</td>\n",
              "      <td>Pulp Fiction</td>\n",
              "      <td>R</td>\n",
              "      <td>Crime</td>\n",
              "      <td>154.0</td>\n",
              "      <td>[u'John Travolta', u'Uma Thurman', u'Samuel L....</td>\n",
              "    </tr>\n",
              "  </tbody>\n",
              "</table>\n",
              "</div>\n",
              "      <button class=\"colab-df-convert\" onclick=\"convertToInteractive('df-2ded067c-0541-475f-bf06-7e6e8942045b')\"\n",
              "              title=\"Convert this dataframe to an interactive table.\"\n",
              "              style=\"display:none;\">\n",
              "        \n",
              "  <svg xmlns=\"http://www.w3.org/2000/svg\" height=\"24px\"viewBox=\"0 0 24 24\"\n",
              "       width=\"24px\">\n",
              "    <path d=\"M0 0h24v24H0V0z\" fill=\"none\"/>\n",
              "    <path d=\"M18.56 5.44l.94 2.06.94-2.06 2.06-.94-2.06-.94-.94-2.06-.94 2.06-2.06.94zm-11 1L8.5 8.5l.94-2.06 2.06-.94-2.06-.94L8.5 2.5l-.94 2.06-2.06.94zm10 10l.94 2.06.94-2.06 2.06-.94-2.06-.94-.94-2.06-.94 2.06-2.06.94z\"/><path d=\"M17.41 7.96l-1.37-1.37c-.4-.4-.92-.59-1.43-.59-.52 0-1.04.2-1.43.59L10.3 9.45l-7.72 7.72c-.78.78-.78 2.05 0 2.83L4 21.41c.39.39.9.59 1.41.59.51 0 1.02-.2 1.41-.59l7.78-7.78 2.81-2.81c.8-.78.8-2.07 0-2.86zM5.41 20L4 18.59l7.72-7.72 1.47 1.35L5.41 20z\"/>\n",
              "  </svg>\n",
              "      </button>\n",
              "      \n",
              "  <style>\n",
              "    .colab-df-container {\n",
              "      display:flex;\n",
              "      flex-wrap:wrap;\n",
              "      gap: 12px;\n",
              "    }\n",
              "\n",
              "    .colab-df-convert {\n",
              "      background-color: #E8F0FE;\n",
              "      border: none;\n",
              "      border-radius: 50%;\n",
              "      cursor: pointer;\n",
              "      display: none;\n",
              "      fill: #1967D2;\n",
              "      height: 32px;\n",
              "      padding: 0 0 0 0;\n",
              "      width: 32px;\n",
              "    }\n",
              "\n",
              "    .colab-df-convert:hover {\n",
              "      background-color: #E2EBFA;\n",
              "      box-shadow: 0px 1px 2px rgba(60, 64, 67, 0.3), 0px 1px 3px 1px rgba(60, 64, 67, 0.15);\n",
              "      fill: #174EA6;\n",
              "    }\n",
              "\n",
              "    [theme=dark] .colab-df-convert {\n",
              "      background-color: #3B4455;\n",
              "      fill: #D2E3FC;\n",
              "    }\n",
              "\n",
              "    [theme=dark] .colab-df-convert:hover {\n",
              "      background-color: #434B5C;\n",
              "      box-shadow: 0px 1px 3px 1px rgba(0, 0, 0, 0.15);\n",
              "      filter: drop-shadow(0px 1px 2px rgba(0, 0, 0, 0.3));\n",
              "      fill: #FFFFFF;\n",
              "    }\n",
              "  </style>\n",
              "\n",
              "      <script>\n",
              "        const buttonEl =\n",
              "          document.querySelector('#df-2ded067c-0541-475f-bf06-7e6e8942045b button.colab-df-convert');\n",
              "        buttonEl.style.display =\n",
              "          google.colab.kernel.accessAllowed ? 'block' : 'none';\n",
              "\n",
              "        async function convertToInteractive(key) {\n",
              "          const element = document.querySelector('#df-2ded067c-0541-475f-bf06-7e6e8942045b');\n",
              "          const dataTable =\n",
              "            await google.colab.kernel.invokeFunction('convertToInteractive',\n",
              "                                                     [key], {});\n",
              "          if (!dataTable) return;\n",
              "\n",
              "          const docLinkHtml = 'Like what you see? Visit the ' +\n",
              "            '<a target=\"_blank\" href=https://colab.research.google.com/notebooks/data_table.ipynb>data table notebook</a>'\n",
              "            + ' to learn more about interactive tables.';\n",
              "          element.innerHTML = '';\n",
              "          dataTable['output_type'] = 'display_data';\n",
              "          await google.colab.output.renderOutput(dataTable, element);\n",
              "          const docLink = document.createElement('div');\n",
              "          docLink.innerHTML = docLinkHtml;\n",
              "          element.appendChild(docLink);\n",
              "        }\n",
              "      </script>\n",
              "    </div>\n",
              "  </div>\n",
              "  "
            ]
          },
          "metadata": {},
          "execution_count": 69
        }
      ],
      "source": [
        "# La base de datos con la que habiamos estado trabajando ya tenia datos preprocesados.\n",
        "# Intentemos con una algo mas imperfecta\n",
        "movies = pd.read_csv('https://raw.githubusercontent.com/anyoneai/notebooks/main/datasets/imdb_dataset.csv')\n",
        "print(f\"La longitud de esta base de datos es de {len(movies)}\")\n",
        "movies.head()"
      ]
    },
    {
      "cell_type": "markdown",
      "id": "1555ad17",
      "metadata": {
        "id": "1555ad17"
      },
      "source": [
        "#### Valores faltantes\n",
        "Inicialmente, ya vemos un valor Nan, en la linea 3, en la columna duration. Esto indica que no hay un valor alli.\n",
        "Hay diferentes formas de tratar los valores Nan."
      ]
    },
    {
      "cell_type": "code",
      "execution_count": null,
      "id": "0ff4b9f3",
      "metadata": {
        "colab": {
          "base_uri": "https://localhost:8080/"
        },
        "id": "0ff4b9f3",
        "outputId": "0f50b167-1cdf-4bc9-8fb1-121c388327f7"
      },
      "outputs": [
        {
          "output_type": "execute_result",
          "data": {
            "text/plain": [
              "     star_rating  title  content_rating  genre  duration  actors_list\n",
              "0          False  False           False  False      True        False\n",
              "1           True  False           False  False     False        False\n",
              "2          False  False           False   True     False        False\n",
              "3          False  False           False  False      True        False\n",
              "4          False  False           False  False     False        False\n",
              "..           ...    ...             ...    ...       ...          ...\n",
              "974        False  False           False  False     False        False\n",
              "975        False  False           False  False     False        False\n",
              "976        False  False           False  False     False        False\n",
              "977        False  False           False  False     False        False\n",
              "978        False  False           False  False     False        False\n",
              "\n",
              "[979 rows x 6 columns]"
            ],
            "text/html": [
              "\n",
              "  <div id=\"df-0a77686b-6b87-4dde-ba8a-0f890700af40\">\n",
              "    <div class=\"colab-df-container\">\n",
              "      <div>\n",
              "<style scoped>\n",
              "    .dataframe tbody tr th:only-of-type {\n",
              "        vertical-align: middle;\n",
              "    }\n",
              "\n",
              "    .dataframe tbody tr th {\n",
              "        vertical-align: top;\n",
              "    }\n",
              "\n",
              "    .dataframe thead th {\n",
              "        text-align: right;\n",
              "    }\n",
              "</style>\n",
              "<table border=\"1\" class=\"dataframe\">\n",
              "  <thead>\n",
              "    <tr style=\"text-align: right;\">\n",
              "      <th></th>\n",
              "      <th>star_rating</th>\n",
              "      <th>title</th>\n",
              "      <th>content_rating</th>\n",
              "      <th>genre</th>\n",
              "      <th>duration</th>\n",
              "      <th>actors_list</th>\n",
              "    </tr>\n",
              "  </thead>\n",
              "  <tbody>\n",
              "    <tr>\n",
              "      <th>0</th>\n",
              "      <td>False</td>\n",
              "      <td>False</td>\n",
              "      <td>False</td>\n",
              "      <td>False</td>\n",
              "      <td>True</td>\n",
              "      <td>False</td>\n",
              "    </tr>\n",
              "    <tr>\n",
              "      <th>1</th>\n",
              "      <td>True</td>\n",
              "      <td>False</td>\n",
              "      <td>False</td>\n",
              "      <td>False</td>\n",
              "      <td>False</td>\n",
              "      <td>False</td>\n",
              "    </tr>\n",
              "    <tr>\n",
              "      <th>2</th>\n",
              "      <td>False</td>\n",
              "      <td>False</td>\n",
              "      <td>False</td>\n",
              "      <td>True</td>\n",
              "      <td>False</td>\n",
              "      <td>False</td>\n",
              "    </tr>\n",
              "    <tr>\n",
              "      <th>3</th>\n",
              "      <td>False</td>\n",
              "      <td>False</td>\n",
              "      <td>False</td>\n",
              "      <td>False</td>\n",
              "      <td>True</td>\n",
              "      <td>False</td>\n",
              "    </tr>\n",
              "    <tr>\n",
              "      <th>4</th>\n",
              "      <td>False</td>\n",
              "      <td>False</td>\n",
              "      <td>False</td>\n",
              "      <td>False</td>\n",
              "      <td>False</td>\n",
              "      <td>False</td>\n",
              "    </tr>\n",
              "    <tr>\n",
              "      <th>...</th>\n",
              "      <td>...</td>\n",
              "      <td>...</td>\n",
              "      <td>...</td>\n",
              "      <td>...</td>\n",
              "      <td>...</td>\n",
              "      <td>...</td>\n",
              "    </tr>\n",
              "    <tr>\n",
              "      <th>974</th>\n",
              "      <td>False</td>\n",
              "      <td>False</td>\n",
              "      <td>False</td>\n",
              "      <td>False</td>\n",
              "      <td>False</td>\n",
              "      <td>False</td>\n",
              "    </tr>\n",
              "    <tr>\n",
              "      <th>975</th>\n",
              "      <td>False</td>\n",
              "      <td>False</td>\n",
              "      <td>False</td>\n",
              "      <td>False</td>\n",
              "      <td>False</td>\n",
              "      <td>False</td>\n",
              "    </tr>\n",
              "    <tr>\n",
              "      <th>976</th>\n",
              "      <td>False</td>\n",
              "      <td>False</td>\n",
              "      <td>False</td>\n",
              "      <td>False</td>\n",
              "      <td>False</td>\n",
              "      <td>False</td>\n",
              "    </tr>\n",
              "    <tr>\n",
              "      <th>977</th>\n",
              "      <td>False</td>\n",
              "      <td>False</td>\n",
              "      <td>False</td>\n",
              "      <td>False</td>\n",
              "      <td>False</td>\n",
              "      <td>False</td>\n",
              "    </tr>\n",
              "    <tr>\n",
              "      <th>978</th>\n",
              "      <td>False</td>\n",
              "      <td>False</td>\n",
              "      <td>False</td>\n",
              "      <td>False</td>\n",
              "      <td>False</td>\n",
              "      <td>False</td>\n",
              "    </tr>\n",
              "  </tbody>\n",
              "</table>\n",
              "<p>979 rows × 6 columns</p>\n",
              "</div>\n",
              "      <button class=\"colab-df-convert\" onclick=\"convertToInteractive('df-0a77686b-6b87-4dde-ba8a-0f890700af40')\"\n",
              "              title=\"Convert this dataframe to an interactive table.\"\n",
              "              style=\"display:none;\">\n",
              "        \n",
              "  <svg xmlns=\"http://www.w3.org/2000/svg\" height=\"24px\"viewBox=\"0 0 24 24\"\n",
              "       width=\"24px\">\n",
              "    <path d=\"M0 0h24v24H0V0z\" fill=\"none\"/>\n",
              "    <path d=\"M18.56 5.44l.94 2.06.94-2.06 2.06-.94-2.06-.94-.94-2.06-.94 2.06-2.06.94zm-11 1L8.5 8.5l.94-2.06 2.06-.94-2.06-.94L8.5 2.5l-.94 2.06-2.06.94zm10 10l.94 2.06.94-2.06 2.06-.94-2.06-.94-.94-2.06-.94 2.06-2.06.94z\"/><path d=\"M17.41 7.96l-1.37-1.37c-.4-.4-.92-.59-1.43-.59-.52 0-1.04.2-1.43.59L10.3 9.45l-7.72 7.72c-.78.78-.78 2.05 0 2.83L4 21.41c.39.39.9.59 1.41.59.51 0 1.02-.2 1.41-.59l7.78-7.78 2.81-2.81c.8-.78.8-2.07 0-2.86zM5.41 20L4 18.59l7.72-7.72 1.47 1.35L5.41 20z\"/>\n",
              "  </svg>\n",
              "      </button>\n",
              "      \n",
              "  <style>\n",
              "    .colab-df-container {\n",
              "      display:flex;\n",
              "      flex-wrap:wrap;\n",
              "      gap: 12px;\n",
              "    }\n",
              "\n",
              "    .colab-df-convert {\n",
              "      background-color: #E8F0FE;\n",
              "      border: none;\n",
              "      border-radius: 50%;\n",
              "      cursor: pointer;\n",
              "      display: none;\n",
              "      fill: #1967D2;\n",
              "      height: 32px;\n",
              "      padding: 0 0 0 0;\n",
              "      width: 32px;\n",
              "    }\n",
              "\n",
              "    .colab-df-convert:hover {\n",
              "      background-color: #E2EBFA;\n",
              "      box-shadow: 0px 1px 2px rgba(60, 64, 67, 0.3), 0px 1px 3px 1px rgba(60, 64, 67, 0.15);\n",
              "      fill: #174EA6;\n",
              "    }\n",
              "\n",
              "    [theme=dark] .colab-df-convert {\n",
              "      background-color: #3B4455;\n",
              "      fill: #D2E3FC;\n",
              "    }\n",
              "\n",
              "    [theme=dark] .colab-df-convert:hover {\n",
              "      background-color: #434B5C;\n",
              "      box-shadow: 0px 1px 3px 1px rgba(0, 0, 0, 0.15);\n",
              "      filter: drop-shadow(0px 1px 2px rgba(0, 0, 0, 0.3));\n",
              "      fill: #FFFFFF;\n",
              "    }\n",
              "  </style>\n",
              "\n",
              "      <script>\n",
              "        const buttonEl =\n",
              "          document.querySelector('#df-0a77686b-6b87-4dde-ba8a-0f890700af40 button.colab-df-convert');\n",
              "        buttonEl.style.display =\n",
              "          google.colab.kernel.accessAllowed ? 'block' : 'none';\n",
              "\n",
              "        async function convertToInteractive(key) {\n",
              "          const element = document.querySelector('#df-0a77686b-6b87-4dde-ba8a-0f890700af40');\n",
              "          const dataTable =\n",
              "            await google.colab.kernel.invokeFunction('convertToInteractive',\n",
              "                                                     [key], {});\n",
              "          if (!dataTable) return;\n",
              "\n",
              "          const docLinkHtml = 'Like what you see? Visit the ' +\n",
              "            '<a target=\"_blank\" href=https://colab.research.google.com/notebooks/data_table.ipynb>data table notebook</a>'\n",
              "            + ' to learn more about interactive tables.';\n",
              "          element.innerHTML = '';\n",
              "          dataTable['output_type'] = 'display_data';\n",
              "          await google.colab.output.renderOutput(dataTable, element);\n",
              "          const docLink = document.createElement('div');\n",
              "          docLink.innerHTML = docLinkHtml;\n",
              "          element.appendChild(docLink);\n",
              "        }\n",
              "      </script>\n",
              "    </div>\n",
              "  </div>\n",
              "  "
            ]
          },
          "metadata": {},
          "execution_count": 70
        }
      ],
      "source": [
        "# isna, de pandas, nos da una lista de verdaderos y falsos para cada lugar. Falso significa:\n",
        "# \"aqui hay un valor\" verdadero indica \"aqui hay un Nan\", o \"aqui no hay ningun valor\"\n",
        "movies.isna()"
      ]
    },
    {
      "cell_type": "code",
      "execution_count": null,
      "id": "253eb03d",
      "metadata": {
        "colab": {
          "base_uri": "https://localhost:8080/"
        },
        "id": "253eb03d",
        "outputId": "e7153dee-304d-4f0b-ea9d-1a1496fcbc87"
      },
      "outputs": [
        {
          "output_type": "execute_result",
          "data": {
            "text/plain": [
              "star_rating        1\n",
              "title              0\n",
              "content_rating     1\n",
              "genre              1\n",
              "duration          19\n",
              "actors_list        0\n",
              "dtype: int64"
            ]
          },
          "metadata": {},
          "execution_count": 71
        }
      ],
      "source": [
        "# Esto es demasiado para leer, con el metodo sum, vemos cuantos nan hay en cada columna.\n",
        "movies.isna().sum()"
      ]
    },
    {
      "cell_type": "code",
      "execution_count": null,
      "id": "b6d7a783",
      "metadata": {
        "colab": {
          "base_uri": "https://localhost:8080/"
        },
        "id": "b6d7a783",
        "outputId": "e91bcfc1-4e56-42b6-bfe2-59bb75a32d76"
      },
      "outputs": [
        {
          "output_type": "stream",
          "name": "stdout",
          "text": [
            "Index(['star_rating', 'duration'], dtype='object')\n"
          ]
        }
      ],
      "source": [
        "# Podemos utilizar un metodo comun, aunque poco sofisticado de tratar a los valores nan:\n",
        "# reemplazarlos con el valor de la media para esa columna\n",
        "numericas = movies.select_dtypes(include=['int','float']).columns\n",
        "print(numericas)\n",
        " # obtenemos las medias de las numericas"
      ]
    },
    {
      "cell_type": "code",
      "execution_count": null,
      "id": "e9e193f5",
      "metadata": {
        "colab": {
          "base_uri": "https://localhost:8080/"
        },
        "id": "e9e193f5",
        "outputId": "cdb904bd-bb99-4954-d894-a8585bcc5f0e"
      },
      "outputs": [
        {
          "output_type": "execute_result",
          "data": {
            "text/plain": [
              "     star_rating  duration\n",
              "0            9.3       NaN\n",
              "1            NaN     175.0\n",
              "2            9.1     200.0\n",
              "3            9.0       NaN\n",
              "4            8.9     154.0\n",
              "..           ...       ...\n",
              "974          7.4     116.0\n",
              "975          7.4     118.0\n",
              "976          7.4     138.0\n",
              "977          7.4     114.0\n",
              "978          7.4     126.0\n",
              "\n",
              "[979 rows x 2 columns]"
            ],
            "text/html": [
              "\n",
              "  <div id=\"df-729e1c9d-a416-4efd-881b-af1adf122f9b\">\n",
              "    <div class=\"colab-df-container\">\n",
              "      <div>\n",
              "<style scoped>\n",
              "    .dataframe tbody tr th:only-of-type {\n",
              "        vertical-align: middle;\n",
              "    }\n",
              "\n",
              "    .dataframe tbody tr th {\n",
              "        vertical-align: top;\n",
              "    }\n",
              "\n",
              "    .dataframe thead th {\n",
              "        text-align: right;\n",
              "    }\n",
              "</style>\n",
              "<table border=\"1\" class=\"dataframe\">\n",
              "  <thead>\n",
              "    <tr style=\"text-align: right;\">\n",
              "      <th></th>\n",
              "      <th>star_rating</th>\n",
              "      <th>duration</th>\n",
              "    </tr>\n",
              "  </thead>\n",
              "  <tbody>\n",
              "    <tr>\n",
              "      <th>0</th>\n",
              "      <td>9.3</td>\n",
              "      <td>NaN</td>\n",
              "    </tr>\n",
              "    <tr>\n",
              "      <th>1</th>\n",
              "      <td>NaN</td>\n",
              "      <td>175.0</td>\n",
              "    </tr>\n",
              "    <tr>\n",
              "      <th>2</th>\n",
              "      <td>9.1</td>\n",
              "      <td>200.0</td>\n",
              "    </tr>\n",
              "    <tr>\n",
              "      <th>3</th>\n",
              "      <td>9.0</td>\n",
              "      <td>NaN</td>\n",
              "    </tr>\n",
              "    <tr>\n",
              "      <th>4</th>\n",
              "      <td>8.9</td>\n",
              "      <td>154.0</td>\n",
              "    </tr>\n",
              "    <tr>\n",
              "      <th>...</th>\n",
              "      <td>...</td>\n",
              "      <td>...</td>\n",
              "    </tr>\n",
              "    <tr>\n",
              "      <th>974</th>\n",
              "      <td>7.4</td>\n",
              "      <td>116.0</td>\n",
              "    </tr>\n",
              "    <tr>\n",
              "      <th>975</th>\n",
              "      <td>7.4</td>\n",
              "      <td>118.0</td>\n",
              "    </tr>\n",
              "    <tr>\n",
              "      <th>976</th>\n",
              "      <td>7.4</td>\n",
              "      <td>138.0</td>\n",
              "    </tr>\n",
              "    <tr>\n",
              "      <th>977</th>\n",
              "      <td>7.4</td>\n",
              "      <td>114.0</td>\n",
              "    </tr>\n",
              "    <tr>\n",
              "      <th>978</th>\n",
              "      <td>7.4</td>\n",
              "      <td>126.0</td>\n",
              "    </tr>\n",
              "  </tbody>\n",
              "</table>\n",
              "<p>979 rows × 2 columns</p>\n",
              "</div>\n",
              "      <button class=\"colab-df-convert\" onclick=\"convertToInteractive('df-729e1c9d-a416-4efd-881b-af1adf122f9b')\"\n",
              "              title=\"Convert this dataframe to an interactive table.\"\n",
              "              style=\"display:none;\">\n",
              "        \n",
              "  <svg xmlns=\"http://www.w3.org/2000/svg\" height=\"24px\"viewBox=\"0 0 24 24\"\n",
              "       width=\"24px\">\n",
              "    <path d=\"M0 0h24v24H0V0z\" fill=\"none\"/>\n",
              "    <path d=\"M18.56 5.44l.94 2.06.94-2.06 2.06-.94-2.06-.94-.94-2.06-.94 2.06-2.06.94zm-11 1L8.5 8.5l.94-2.06 2.06-.94-2.06-.94L8.5 2.5l-.94 2.06-2.06.94zm10 10l.94 2.06.94-2.06 2.06-.94-2.06-.94-.94-2.06-.94 2.06-2.06.94z\"/><path d=\"M17.41 7.96l-1.37-1.37c-.4-.4-.92-.59-1.43-.59-.52 0-1.04.2-1.43.59L10.3 9.45l-7.72 7.72c-.78.78-.78 2.05 0 2.83L4 21.41c.39.39.9.59 1.41.59.51 0 1.02-.2 1.41-.59l7.78-7.78 2.81-2.81c.8-.78.8-2.07 0-2.86zM5.41 20L4 18.59l7.72-7.72 1.47 1.35L5.41 20z\"/>\n",
              "  </svg>\n",
              "      </button>\n",
              "      \n",
              "  <style>\n",
              "    .colab-df-container {\n",
              "      display:flex;\n",
              "      flex-wrap:wrap;\n",
              "      gap: 12px;\n",
              "    }\n",
              "\n",
              "    .colab-df-convert {\n",
              "      background-color: #E8F0FE;\n",
              "      border: none;\n",
              "      border-radius: 50%;\n",
              "      cursor: pointer;\n",
              "      display: none;\n",
              "      fill: #1967D2;\n",
              "      height: 32px;\n",
              "      padding: 0 0 0 0;\n",
              "      width: 32px;\n",
              "    }\n",
              "\n",
              "    .colab-df-convert:hover {\n",
              "      background-color: #E2EBFA;\n",
              "      box-shadow: 0px 1px 2px rgba(60, 64, 67, 0.3), 0px 1px 3px 1px rgba(60, 64, 67, 0.15);\n",
              "      fill: #174EA6;\n",
              "    }\n",
              "\n",
              "    [theme=dark] .colab-df-convert {\n",
              "      background-color: #3B4455;\n",
              "      fill: #D2E3FC;\n",
              "    }\n",
              "\n",
              "    [theme=dark] .colab-df-convert:hover {\n",
              "      background-color: #434B5C;\n",
              "      box-shadow: 0px 1px 3px 1px rgba(0, 0, 0, 0.15);\n",
              "      filter: drop-shadow(0px 1px 2px rgba(0, 0, 0, 0.3));\n",
              "      fill: #FFFFFF;\n",
              "    }\n",
              "  </style>\n",
              "\n",
              "      <script>\n",
              "        const buttonEl =\n",
              "          document.querySelector('#df-729e1c9d-a416-4efd-881b-af1adf122f9b button.colab-df-convert');\n",
              "        buttonEl.style.display =\n",
              "          google.colab.kernel.accessAllowed ? 'block' : 'none';\n",
              "\n",
              "        async function convertToInteractive(key) {\n",
              "          const element = document.querySelector('#df-729e1c9d-a416-4efd-881b-af1adf122f9b');\n",
              "          const dataTable =\n",
              "            await google.colab.kernel.invokeFunction('convertToInteractive',\n",
              "                                                     [key], {});\n",
              "          if (!dataTable) return;\n",
              "\n",
              "          const docLinkHtml = 'Like what you see? Visit the ' +\n",
              "            '<a target=\"_blank\" href=https://colab.research.google.com/notebooks/data_table.ipynb>data table notebook</a>'\n",
              "            + ' to learn more about interactive tables.';\n",
              "          element.innerHTML = '';\n",
              "          dataTable['output_type'] = 'display_data';\n",
              "          await google.colab.output.renderOutput(dataTable, element);\n",
              "          const docLink = document.createElement('div');\n",
              "          docLink.innerHTML = docLinkHtml;\n",
              "          element.appendChild(docLink);\n",
              "        }\n",
              "      </script>\n",
              "    </div>\n",
              "  </div>\n",
              "  "
            ]
          },
          "metadata": {},
          "execution_count": 73
        }
      ],
      "source": [
        "movies[numericas]"
      ]
    },
    {
      "cell_type": "code",
      "execution_count": null,
      "id": "f124cd81",
      "metadata": {
        "colab": {
          "base_uri": "https://localhost:8080/"
        },
        "id": "f124cd81",
        "outputId": "59a9fe31-9859-49e5-ebf2-28c94769756d"
      },
      "outputs": [
        {
          "output_type": "execute_result",
          "data": {
            "text/plain": [
              "star_rating      7.888446\n",
              "duration       120.844792\n",
              "dtype: float64"
            ]
          },
          "metadata": {},
          "execution_count": 74
        }
      ],
      "source": [
        "medias = movies[numericas].mean()\n",
        "medias"
      ]
    },
    {
      "cell_type": "code",
      "execution_count": null,
      "id": "98655432",
      "metadata": {
        "colab": {
          "base_uri": "https://localhost:8080/"
        },
        "id": "98655432",
        "outputId": "3f1f7640-0b28-48a6-fd7b-ef3438b91d81"
      },
      "outputs": [
        {
          "output_type": "execute_result",
          "data": {
            "text/plain": [
              "star_rating       0\n",
              "title             0\n",
              "content_rating    1\n",
              "genre             1\n",
              "duration          0\n",
              "actors_list       0\n",
              "dtype: int64"
            ]
          },
          "metadata": {},
          "execution_count": 75
        }
      ],
      "source": [
        "# usamos el metodo fillna para rellenar los datos faltantes\n",
        "movies[numericas] = movies[numericas].fillna(medias)\n",
        "movies.isna().sum()"
      ]
    },
    {
      "cell_type": "markdown",
      "id": "011e1f4f",
      "metadata": {
        "id": "011e1f4f"
      },
      "source": [
        "#### Normalizacion de datos\n",
        "En el contexto del aprendizaje automático, la transformación de datos implica modificar la información para que sea más adecuada y útil para los modelos de machine learning.\n",
        "Por ejemplo:\n",
        "- tengan escala similar\n",
        "- convertir variables categoricas a numericas\n",
        "- extraer caracteristicas relevantes de los datos\n",
        "- extraer outliers\n",
        "\n",
        "Estas transformaciones nos permiten entrenar modelos más efectivos y tomar decisiones inteligentes basadas en los datos."
      ]
    },
    {
      "cell_type": "markdown",
      "id": "26dfe69a",
      "metadata": {
        "id": "26dfe69a"
      },
      "source": [
        "#### Llevar datos a una escala similar\n",
        "Algunos algoritmos de machine learning son sensibles a la escala de las variables. Cuando las características varían en escalas, los algoritmos pueden dar mayor importancia a las características con una escala más grande.\n",
        "##### MinMaxScaler\n",
        "Una técnica popular de normalización es MinMax Scaler. Esta técnica lleva todas las características a una escala entre 0 y 1 , donde el valor minimo es igual a 0 y el valor maximo es igual a 1. Esta es la formula:\n",
        "\n",
        "\n",
        "    X_std = (X - X.min(axis=0)) / (X.max(axis=0) - X.min(axis=0))\n",
        "    X_scaled = X_std * (max - min) + min\n"
      ]
    },
    {
      "cell_type": "code",
      "execution_count": null,
      "id": "c5569973",
      "metadata": {
        "colab": {
          "base_uri": "https://localhost:8080/"
        },
        "id": "c5569973",
        "outputId": "9cf1cc11-f07f-4458-96e2-4e129186501e"
      },
      "outputs": [
        {
          "output_type": "display_data",
          "data": {
            "text/plain": [
              "<Figure size 1000x800 with 1 Axes>"
            ],
            "image/png": "[encoded data removed]"
          },
          "metadata": {}
        }
      ],
      "source": [
        "# veamos rapidamente la disparidad entre features\n",
        "from sklearn.preprocessing import MinMaxScaler, StandardScaler\n",
        "import pandas as pd\n",
        "import matplotlib.pyplot as plt\n",
        "import seaborn as sns\n",
        "\n",
        "with plt.style.context('dark_background'):\n",
        "    sns.boxplot(data= movies, palette='viridis')\n",
        "    plt.title(\"Variables sin estandarizar\")\n",
        "    plt.xlabel(\"Categorias\")\n",
        "    plt.ylabel(\"Valores\")\n",
        "    plt.show()\n"
      ]
    },
    {
      "cell_type": "markdown",
      "id": "c41fa94e",
      "metadata": {
        "id": "c41fa94e"
      },
      "source": [
        "\n",
        "Oh no! 😟\n"
      ]
    },
    {
      "cell_type": "code",
      "execution_count": null,
      "id": "08a3c6c2",
      "metadata": {
        "id": "08a3c6c2"
      },
      "outputs": [],
      "source": [
        "# En sklearn casi siempre vamos a actuar instanciando objetos primero.\n",
        "# Todos los objetos vienen con un metodo fit, un metodo transform y un metodo fit_transform que combina ambos\n",
        "# En este caso, fit calcula los valores minimos y maximos del rango, y transform transforma los datos\n",
        "# en valores que van de 0 a 1\n",
        "\n",
        "mm_scaler = MinMaxScaler(feature_range=(0, 1), clip=False)\n",
        "# utilizamos el metodo reshape porque el transformador espera un array de 2 dimensiones. Pueden leer mas sobre el metodo\n",
        "# reshape en los notebooks compartidos o en [https://www.w3schools.com/python/numpy/numpy_array_reshape.asp]\n",
        "\n",
        "min_max_star = mm_scaler.fit_transform(movies['star_rating'].values.reshape(-1, 1))\n",
        "min_max_duration = mm_scaler.fit_transform(movies['duration'].values.reshape(-1,1))\n",
        "movies['star_rating'] = min_max_star\n",
        "movies['duration'] = min_max_duration"
      ]
    },
    {
      "cell_type": "code",
      "execution_count": null,
      "id": "b350b8b3",
      "metadata": {
        "colab": {
          "base_uri": "https://localhost:8080/"
        },
        "id": "b350b8b3",
        "outputId": "28f29f6c-b862-4678-901f-a3eab5b9060a"
      },
      "outputs": [
        {
          "output_type": "display_data",
          "data": {
            "text/plain": [
              "<Figure size 1000x800 with 1 Axes>"
            ],
            "image/png": "[encoded data removed]"
          },
          "metadata": {}
        }
      ],
      "source": [
        "with plt.style.context('dark_background'):\n",
        "    sns.boxplot(data= movies, palette='magma')\n",
        "    plt.title(\"Variables estandarizadas\")\n",
        "    plt.xlabel(\"Categorias\")\n",
        "    plt.ylabel(\"Valores\")\n",
        "    plt.show()"
      ]
    },
    {
      "cell_type": "markdown",
      "id": "7f3a99e9",
      "metadata": {
        "id": "7f3a99e9"
      },
      "source": [
        "Mejor!!!!! 😄\n"
      ]
    },
    {
      "cell_type": "markdown",
      "id": "db609885",
      "metadata": {
        "id": "db609885"
      },
      "source": [
        "<a name=ML></a>"
      ]
    },
    {
      "cell_type": "markdown",
      "id": "eca40047",
      "metadata": {
        "id": "eca40047"
      },
      "source": [
        "<a name='FeatureEngineering'></a>\n",
        "# ML (Finalmente)"
      ]
    },
    {
      "cell_type": "markdown",
      "id": "7b9acfed",
      "metadata": {
        "id": "7b9acfed"
      },
      "source": [
        "## Aprendizaje Automático con Scikit-Learn: Prediciendo Precios de Casas\n",
        "\n",
        "Ahora volvemos al conjunto de datos de precios de casas (que tiene los datos ya preprocesados) y usaremos estos datos para predecir el precio de una casa basándonos en su superficie.\n",
        "\n",
        "### Conjunto de Datos\n",
        "\n",
        "El conjunto de datos que utilizaremos se puede encontrar en la siguiente URL:\n",
        "\n",
        "'https://raw.githubusercontent.com/anyoneai/notebooks/main/datasets/house-prices.csv'\n",
        "\n",
        "Este conjunto de datos contiene información sobre varias casas, incluyendo su metraje cuadrado y precio. Usaremos estos datos para entrenar nuestros modelos de aprendizaje automático.\n",
        "\n",
        "### Modelos de Aprendizaje Automático\n",
        "\n",
        "Crearemos dos modelos para esta tarea:\n",
        "\n",
        "1. **Modelo de Regresión Lineal**: Este es un modelo simple pero poderoso que asume una relación lineal entre las variables de entrada (metraje cuadrado) y la única variable de salida (precio).\n",
        "\n",
        "2. **Regresor Ingenuo**: Este modelo siempre predecirá el precio mediano de nuestro conjunto de datos de entrenamiento. Es un modelo simple que usaremos como base para comparar con nuestro modelo de Regresión Lineal.\n",
        "\n",
        "### Clases en Python\n",
        "\n",
        "Como parte de este tutorial, crearemos una clase en Python. Si eres nuevo en las clases en Python, ¡no te preocupes! Revisaremos un poco de teoría y te guiaremos a través del proceso. Esencialmente, una clase es un plano para crear objetos en Python. Nos permite encapsular datos y funciones relacionadas en una sola entidad.\n",
        "\n",
        "### Visualización de Datos\n",
        "\n",
        "Para ayudarnos a entender nuestros datos y el rendimiento de nuestros modelos, utilizaremos Seaborn, una poderosa biblioteca de visualización de datos en Python. Crearemos gráficos que nos ayudarán a visualizar la distribución de los precios de las casas, la relación entre el metraje cuadrado y el precio, y el rendimiento de nuestros modelos de aprendizaje automático.\n",
        "\n",
        "¡Empecemos!\n"
      ]
    },
    {
      "cell_type": "code",
      "execution_count": null,
      "id": "c489e1f8",
      "metadata": {
        "id": "c489e1f8"
      },
      "outputs": [],
      "source": [
        "from sklearn.linear_model import LinearRegression\n",
        "from sklearn.preprocessing import PolynomialFeatures\n",
        "from sklearn.pipeline import make_pipeline\n",
        "import numpy as np\n",
        "import pandas as pd\n",
        "import matplotlib.pyplot as plt\n",
        "import seaborn as sns\n",
        "\n",
        "\n",
        "# %matplotlib notebook\n",
        "%matplotlib inline\n",
        "\n",
        "plt.rcParams['figure.figsize'] = [8, 6]"
      ]
    },
    {
      "cell_type": "code",
      "execution_count": null,
      "id": "f65cc271",
      "metadata": {
        "colab": {
          "base_uri": "https://localhost:8080/"
        },
        "id": "f65cc271",
        "outputId": "ee2ce638-5f29-4ba8-f1fd-b990c331b503"
      },
      "outputs": [
        {
          "output_type": "execute_result",
          "data": {
            "text/plain": [
              "     Home   Price  SqFt  Bedrooms  Bathrooms  Offers Brick Neighborhood\n",
              "0       1  114300  1790         2          2       2    No         East\n",
              "1       2  114200  2030         4          2       3    No         East\n",
              "2       3  114800  1740         3          2       1    No         East\n",
              "3       4   94700  1980         3          2       3    No         East\n",
              "4       5  119800  2130         3          3       3    No         East\n",
              "..    ...     ...   ...       ...        ...     ...   ...          ...\n",
              "123   124  119700  1900         3          3       3   Yes         East\n",
              "124   125  147900  2160         4          3       3   Yes         East\n",
              "125   126  113500  2070         2          2       2    No        North\n",
              "126   127  149900  2020         3          3       1    No         West\n",
              "127   128  124600  2250         3          3       4    No        North\n",
              "\n",
              "[128 rows x 8 columns]"
            ],
            "text/html": [
              "\n",
              "  <div id=\"df-974542e4-f5c3-472d-bd65-20b2626630de\">\n",
              "    <div class=\"colab-df-container\">\n",
              "      <div>\n",
              "<style scoped>\n",
              "    .dataframe tbody tr th:only-of-type {\n",
              "        vertical-align: middle;\n",
              "    }\n",
              "\n",
              "    .dataframe tbody tr th {\n",
              "        vertical-align: top;\n",
              "    }\n",
              "\n",
              "    .dataframe thead th {\n",
              "        text-align: right;\n",
              "    }\n",
              "</style>\n",
              "<table border=\"1\" class=\"dataframe\">\n",
              "  <thead>\n",
              "    <tr style=\"text-align: right;\">\n",
              "      <th></th>\n",
              "      <th>Home</th>\n",
              "      <th>Price</th>\n",
              "      <th>SqFt</th>\n",
              "      <th>Bedrooms</th>\n",
              "      <th>Bathrooms</th>\n",
              "      <th>Offers</th>\n",
              "      <th>Brick</th>\n",
              "      <th>Neighborhood</th>\n",
              "    </tr>\n",
              "  </thead>\n",
              "  <tbody>\n",
              "    <tr>\n",
              "      <th>0</th>\n",
              "      <td>1</td>\n",
              "      <td>114300</td>\n",
              "      <td>1790</td>\n",
              "      <td>2</td>\n",
              "      <td>2</td>\n",
              "      <td>2</td>\n",
              "      <td>No</td>\n",
              "      <td>East</td>\n",
              "    </tr>\n",
              "    <tr>\n",
              "      <th>1</th>\n",
              "      <td>2</td>\n",
              "      <td>114200</td>\n",
              "      <td>2030</td>\n",
              "      <td>4</td>\n",
              "      <td>2</td>\n",
              "      <td>3</td>\n",
              "      <td>No</td>\n",
              "      <td>East</td>\n",
              "    </tr>\n",
              "    <tr>\n",
              "      <th>2</th>\n",
              "      <td>3</td>\n",
              "      <td>114800</td>\n",
              "      <td>1740</td>\n",
              "      <td>3</td>\n",
              "      <td>2</td>\n",
              "      <td>1</td>\n",
              "      <td>No</td>\n",
              "      <td>East</td>\n",
              "    </tr>\n",
              "    <tr>\n",
              "      <th>3</th>\n",
              "      <td>4</td>\n",
              "      <td>94700</td>\n",
              "      <td>1980</td>\n",
              "      <td>3</td>\n",
              "      <td>2</td>\n",
              "      <td>3</td>\n",
              "      <td>No</td>\n",
              "      <td>East</td>\n",
              "    </tr>\n",
              "    <tr>\n",
              "      <th>4</th>\n",
              "      <td>5</td>\n",
              "      <td>119800</td>\n",
              "      <td>2130</td>\n",
              "      <td>3</td>\n",
              "      <td>3</td>\n",
              "      <td>3</td>\n",
              "      <td>No</td>\n",
              "      <td>East</td>\n",
              "    </tr>\n",
              "    <tr>\n",
              "      <th>...</th>\n",
              "      <td>...</td>\n",
              "      <td>...</td>\n",
              "      <td>...</td>\n",
              "      <td>...</td>\n",
              "      <td>...</td>\n",
              "      <td>...</td>\n",
              "      <td>...</td>\n",
              "      <td>...</td>\n",
              "    </tr>\n",
              "    <tr>\n",
              "      <th>123</th>\n",
              "      <td>124</td>\n",
              "      <td>119700</td>\n",
              "      <td>1900</td>\n",
              "      <td>3</td>\n",
              "      <td>3</td>\n",
              "      <td>3</td>\n",
              "      <td>Yes</td>\n",
              "      <td>East</td>\n",
              "    </tr>\n",
              "    <tr>\n",
              "      <th>124</th>\n",
              "      <td>125</td>\n",
              "      <td>147900</td>\n",
              "      <td>2160</td>\n",
              "      <td>4</td>\n",
              "      <td>3</td>\n",
              "      <td>3</td>\n",
              "      <td>Yes</td>\n",
              "      <td>East</td>\n",
              "    </tr>\n",
              "    <tr>\n",
              "      <th>125</th>\n",
              "      <td>126</td>\n",
              "      <td>113500</td>\n",
              "      <td>2070</td>\n",
              "      <td>2</td>\n",
              "      <td>2</td>\n",
              "      <td>2</td>\n",
              "      <td>No</td>\n",
              "      <td>North</td>\n",
              "    </tr>\n",
              "    <tr>\n",
              "      <th>126</th>\n",
              "      <td>127</td>\n",
              "      <td>149900</td>\n",
              "      <td>2020</td>\n",
              "      <td>3</td>\n",
              "      <td>3</td>\n",
              "      <td>1</td>\n",
              "      <td>No</td>\n",
              "      <td>West</td>\n",
              "    </tr>\n",
              "    <tr>\n",
              "      <th>127</th>\n",
              "      <td>128</td>\n",
              "      <td>124600</td>\n",
              "      <td>2250</td>\n",
              "      <td>3</td>\n",
              "      <td>3</td>\n",
              "      <td>4</td>\n",
              "      <td>No</td>\n",
              "      <td>North</td>\n",
              "    </tr>\n",
              "  </tbody>\n",
              "</table>\n",
              "<p>128 rows × 8 columns</p>\n",
              "</div>\n",
              "      <button class=\"colab-df-convert\" onclick=\"convertToInteractive('df-974542e4-f5c3-472d-bd65-20b2626630de')\"\n",
              "              title=\"Convert this dataframe to an interactive table.\"\n",
              "              style=\"display:none;\">\n",
              "        \n",
              "  <svg xmlns=\"http://www.w3.org/2000/svg\" height=\"24px\"viewBox=\"0 0 24 24\"\n",
              "       width=\"24px\">\n",
              "    <path d=\"M0 0h24v24H0V0z\" fill=\"none\"/>\n",
              "    <path d=\"M18.56 5.44l.94 2.06.94-2.06 2.06-.94-2.06-.94-.94-2.06-.94 2.06-2.06.94zm-11 1L8.5 8.5l.94-2.06 2.06-.94-2.06-.94L8.5 2.5l-.94 2.06-2.06.94zm10 10l.94 2.06.94-2.06 2.06-.94-2.06-.94-.94-2.06-.94 2.06-2.06.94z\"/><path d=\"M17.41 7.96l-1.37-1.37c-.4-.4-.92-.59-1.43-.59-.52 0-1.04.2-1.43.59L10.3 9.45l-7.72 7.72c-.78.78-.78 2.05 0 2.83L4 21.41c.39.39.9.59 1.41.59.51 0 1.02-.2 1.41-.59l7.78-7.78 2.81-2.81c.8-.78.8-2.07 0-2.86zM5.41 20L4 18.59l7.72-7.72 1.47 1.35L5.41 20z\"/>\n",
              "  </svg>\n",
              "      </button>\n",
              "      \n",
              "  <style>\n",
              "    .colab-df-container {\n",
              "      display:flex;\n",
              "      flex-wrap:wrap;\n",
              "      gap: 12px;\n",
              "    }\n",
              "\n",
              "    .colab-df-convert {\n",
              "      background-color: #E8F0FE;\n",
              "      border: none;\n",
              "      border-radius: 50%;\n",
              "      cursor: pointer;\n",
              "      display: none;\n",
              "      fill: #1967D2;\n",
              "      height: 32px;\n",
              "      padding: 0 0 0 0;\n",
              "      width: 32px;\n",
              "    }\n",
              "\n",
              "    .colab-df-convert:hover {\n",
              "      background-color: #E2EBFA;\n",
              "      box-shadow: 0px 1px 2px rgba(60, 64, 67, 0.3), 0px 1px 3px 1px rgba(60, 64, 67, 0.15);\n",
              "      fill: #174EA6;\n",
              "    }\n",
              "\n",
              "    [theme=dark] .colab-df-convert {\n",
              "      background-color: #3B4455;\n",
              "      fill: #D2E3FC;\n",
              "    }\n",
              "\n",
              "    [theme=dark] .colab-df-convert:hover {\n",
              "      background-color: #434B5C;\n",
              "      box-shadow: 0px 1px 3px 1px rgba(0, 0, 0, 0.15);\n",
              "      filter: drop-shadow(0px 1px 2px rgba(0, 0, 0, 0.3));\n",
              "      fill: #FFFFFF;\n",
              "    }\n",
              "  </style>\n",
              "\n",
              "      <script>\n",
              "        const buttonEl =\n",
              "          document.querySelector('#df-974542e4-f5c3-472d-bd65-20b2626630de button.colab-df-convert');\n",
              "        buttonEl.style.display =\n",
              "          google.colab.kernel.accessAllowed ? 'block' : 'none';\n",
              "\n",
              "        async function convertToInteractive(key) {\n",
              "          const element = document.querySelector('#df-974542e4-f5c3-472d-bd65-20b2626630de');\n",
              "          const dataTable =\n",
              "            await google.colab.kernel.invokeFunction('convertToInteractive',\n",
              "                                                     [key], {});\n",
              "          if (!dataTable) return;\n",
              "\n",
              "          const docLinkHtml = 'Like what you see? Visit the ' +\n",
              "            '<a target=\"_blank\" href=https://colab.research.google.com/notebooks/data_table.ipynb>data table notebook</a>'\n",
              "            + ' to learn more about interactive tables.';\n",
              "          element.innerHTML = '';\n",
              "          dataTable['output_type'] = 'display_data';\n",
              "          await google.colab.output.renderOutput(dataTable, element);\n",
              "          const docLink = document.createElement('div');\n",
              "          docLink.innerHTML = docLinkHtml;\n",
              "          element.appendChild(docLink);\n",
              "        }\n",
              "      </script>\n",
              "    </div>\n",
              "  </div>\n",
              "  "
            ]
          },
          "metadata": {},
          "execution_count": 80
        }
      ],
      "source": [
        "hp"
      ]
    },
    {
      "cell_type": "code",
      "execution_count": null,
      "id": "7ead73cb",
      "metadata": {
        "colab": {
          "base_uri": "https://localhost:8080/"
        },
        "id": "7ead73cb",
        "outputId": "5c90dc71-35da-40e5-b6d0-4f1ad42c5307"
      },
      "outputs": [
        {
          "output_type": "display_data",
          "data": {
            "text/plain": [
              "<Figure size 800x600 with 1 Axes>"
            ],
            "image/png": "[encoded data removed]"
          },
          "metadata": {}
        }
      ],
      "source": [
        "# La funcion scatterplot suele ser muy util para la visualizacion de datos\n",
        "sns.scatterplot(x='SqFt', y='Price', data=hp).set_title('Price vs Square Feet')\n",
        "plt.show()"
      ]
    },
    {
      "cell_type": "markdown",
      "id": "aca581c6",
      "metadata": {
        "id": "aca581c6"
      },
      "source": [
        "### Introducción a las Clases en Python\n",
        "\n",
        "En Python, una **clase** es una estructura de código que permite la creación de objetos. Estos objetos pueden tener propiedades (también conocidas como atributos) y comportamientos (conocidos como métodos).\n",
        "\n",
        "#### ¿Qué es una Clase?\n",
        "\n",
        "Una clase es como un plano para crear un objeto. Por ejemplo, podríamos tener una clase `Casa` que define las propiedades que todas las casas tienen en común, como el número de habitaciones, el color, el tamaño, etc. También podría definir comportamientos comunes, como abrir y cerrar puertas o ventanas.\n",
        "\n",
        "#### ¿Qué es un Objeto?\n",
        "\n",
        "Un objeto es una instancia de una clase. Siguiendo con el ejemplo anterior, si `Casa` es una clase, entonces cada casa que construyamos a partir de esa clase es un objeto. Cada objeto `Casa` tendría sus propias propiedades únicas, como el número de habitaciones, el color, el tamaño, etc.\n",
        "\n",
        "#### ¿Cómo se define una Clase en Python?\n",
        "\n",
        "En Python, una clase se define usando la palabra clave `class`, seguida del nombre de la clase y dos puntos. Dentro de la clase, podemos definir los atributos y métodos de la clase.\n",
        "\n",
        "Aquí tienes un ejemplo de cómo se podría definir una clase `Casa`:\n",
        "\n",
        "```python\n",
        "\n"
      ]
    },
    {
      "cell_type": "code",
      "execution_count": null,
      "id": "307c497f",
      "metadata": {
        "id": "307c497f"
      },
      "outputs": [],
      "source": [
        "class Casa:\n",
        "    def __init__(self, habitaciones, color, dimensiones):\n",
        "        # Con init, inicio automaticamente ciertas 'atributos' de la clase\n",
        "        # self hace referencia a la instancia de la clase\n",
        "        self.habitaciones = habitaciones\n",
        "        self.color = color\n",
        "        self.dimensiones = dimensiones\n",
        "        self.puerta = \"cerrada\" #Noten que los 3 atributos anteriores se los pase como parametros, pero self.puerta\n",
        "        # lo pongo por default como \"cerrada\"\n",
        "    def status_puerta(self):\n",
        "        print(f\"La puerta esta {self.puerta}\")\n",
        "\n",
        "    # puedo definir metodos en la clase, como cerrar y abrir una puerta, segun su estado actual\n",
        "    def cerrar_abrir_puerta(self):\n",
        "        if self.puerta == \"abierta\":\n",
        "            self.puerta = \"cerrada\"\n",
        "        else:\n",
        "            self.puerta = \"abierta\"\n",
        "        self.status_puerta() # Un metodo dentro de una clase puede llamar a otros dentro de la clase\n"
      ]
    },
    {
      "cell_type": "code",
      "execution_count": null,
      "id": "dd93dc33",
      "metadata": {
        "colab": {
          "base_uri": "https://localhost:8080/"
        },
        "id": "dd93dc33",
        "outputId": "2ab3e255-0be5-42bb-901f-d3f35ff73d37"
      },
      "outputs": [
        {
          "output_type": "stream",
          "name": "stdout",
          "text": [
            "Mi casa es una casa chiquita de color rojo, con 4 habitaciones\n"
          ]
        }
      ],
      "source": [
        "mi_casa = Casa(4, 'rojo', 'chiquita')\n",
        "print(f\"Mi casa es una casa {mi_casa.dimensiones} de color {mi_casa.color}, con {mi_casa.habitaciones} habitaciones\")"
      ]
    },
    {
      "cell_type": "code",
      "execution_count": null,
      "id": "262e22a7",
      "metadata": {
        "colab": {
          "base_uri": "https://localhost:8080/"
        },
        "id": "262e22a7",
        "outputId": "f1c7d1a5-1716-4b14-ad52-d8b0d8d3a380"
      },
      "outputs": [
        {
          "output_type": "execute_result",
          "data": {
            "text/plain": [
              "'cerrada'"
            ],
            "application/vnd.google.colaboratory.intrinsic+json": {
              "type": "string"
            }
          },
          "metadata": {},
          "execution_count": 106
        }
      ],
      "source": [
        "mi_casa.puerta"
      ]
    },
    {
      "cell_type": "code",
      "execution_count": null,
      "id": "85a9480a",
      "metadata": {
        "colab": {
          "base_uri": "https://localhost:8080/"
        },
        "id": "85a9480a",
        "outputId": "b00b7d2c-6b97-44d6-eaca-9cb975db5b1f"
      },
      "outputs": [
        {
          "output_type": "stream",
          "name": "stdout",
          "text": [
            "La puerta esta cerrada\n",
            "La puerta esta abierta\n",
            "Cariño! Ya llegué! ...\n",
            "La puerta esta cerrada\n"
          ]
        }
      ],
      "source": [
        "# Para entrar, me fijo si la puerta esta abierta o cerrada\n",
        "mi_casa.status_puerta()\n",
        "\n",
        "# Si esta cerrada, la abro ...\n",
        "mi_casa.cerrar_abrir_puerta()\n",
        "\n",
        "# ... entro a casa\n",
        "print(\"Cariño! Ya llegué! ...\")\n",
        "\n",
        "# ... y vuelvo a cerrarla ...\n",
        "mi_casa.cerrar_abrir_puerta()"
      ]
    },
    {
      "cell_type": "markdown",
      "id": "bb2d2f66",
      "metadata": {
        "id": "bb2d2f66"
      },
      "source": [
        "Finalmente, tengan en cuenta que podemos construir varias instancias de una misma clase, cada una de las cuales sera un objeto distinto"
      ]
    },
    {
      "cell_type": "code",
      "execution_count": null,
      "id": "74e5f142",
      "metadata": {
        "colab": {
          "base_uri": "https://localhost:8080/"
        },
        "id": "74e5f142",
        "outputId": "1ae06c62-88df-49b7-a5e4-622872299fa5"
      },
      "outputs": [
        {
          "output_type": "stream",
          "name": "stdout",
          "text": [
            "<class '__main__.Casa'>\n",
            "<class '__main__.Casa'>\n"
          ]
        }
      ],
      "source": [
        "tu_casa = Casa(15, 'magenta', 'gigante')\n",
        "print(type(mi_casa))\n",
        "print(type(tu_casa))"
      ]
    },
    {
      "cell_type": "code",
      "execution_count": null,
      "id": "b7cda95a",
      "metadata": {
        "colab": {
          "base_uri": "https://localhost:8080/"
        },
        "id": "b7cda95a",
        "outputId": "2a8d2d5c-ca27-45e2-9a8f-111743c098d2"
      },
      "outputs": [
        {
          "output_type": "execute_result",
          "data": {
            "text/plain": [
              "False"
            ]
          },
          "metadata": {},
          "execution_count": 87
        }
      ],
      "source": [
        "mi_casa == tu_casa"
      ]
    },
    {
      "cell_type": "code",
      "execution_count": null,
      "id": "fcdfe99f",
      "metadata": {
        "colab": {
          "base_uri": "https://localhost:8080/"
        },
        "id": "fcdfe99f",
        "outputId": "43300f84-2e2f-4b54-efd7-5666a1d9fbc2"
      },
      "outputs": [
        {
          "output_type": "execute_result",
          "data": {
            "text/plain": [
              "False"
            ]
          },
          "metadata": {},
          "execution_count": 88
        }
      ],
      "source": [
        "su_casa = Casa(mi_casa.habitaciones,mi_casa.color, mi_casa.dimensiones)\n",
        "mi_casa == su_casa"
      ]
    },
    {
      "cell_type": "markdown",
      "id": "a05b4969",
      "metadata": {
        "id": "a05b4969"
      },
      "source": [
        "Bueno, volvamos a los nuestro.\n",
        "Vamos a crear nuestra primera clase en Python que posta hace algo con nuestros datos.\n",
        "Nuestra clase es un predictor del valor de una casa, pero no uno muy bueno.\n",
        "\n",
        "Si no tengo muchas ganas de laburar, puedo organizar todos los precios de las casas de menor a mayor y elegir el del medio, cualquier sean los datos que me den.\n",
        "\n",
        "De esta forma, si los datos estan normalmente distribuidos, no le voy a errar por mucho ...\n",
        "\n",
        "Este valor, el medio, se llama ***mediana***, pero eso quizas ya lo sabian. No confundir con ***media***.\n",
        "\n",
        "Podria simplemente llamar el metodo de pandas, df.median(), pero tengo ganas de probar las clases de Python.\n",
        "\n",
        "A esta clase le puedo agregar varios metodos:\n",
        "\n",
        "-  __init__: simplemente inicializa la clase con algunos atributos. Recuerdan los pesos?\n",
        "- __funcion de fit__: En este caso, solo me va a dar la mediana de los datos\n",
        "- __funcion predict__: Ahora puedo introducir un dato, y me va a dar la prediccion del precio.\n",
        "- __funcion cost__: Ahora queremos ***evaluar*** como nos fue con las predicciones. El ***costo*** es una forma de expresar el error de un monton de predicciones con un solo valor. Hay diferentes calculos que se pueden hacer, pero resumiendo, a menor costo, mejor fueron nuestras predicciones, y mejor funciona el modelo. Si quieren, pueden cambiar la forma de predecir el error, tomando por ejemplo el error promedio.\n",
        "\n"
      ]
    },
    {
      "cell_type": "code",
      "execution_count": null,
      "id": "c7444019",
      "metadata": {
        "id": "c7444019"
      },
      "outputs": [],
      "source": [
        "class NaiveRegressor():\n",
        "  \"\"\"\n",
        "  Este modelo calcula la mediana y lo usa como el valor predicho\n",
        "  \"\"\"\n",
        "\n",
        "  def __init__(self):\n",
        "    self.w0 = 0\n",
        "    self.w1 = 0\n",
        "\n",
        "  def cost(self, X, y):\n",
        "    # Este metodo predice un costo\n",
        "    diff = (self.predict(X) - y)**2\n",
        "    diff_sum = sum(diff) / 2\n",
        "    return diff_sum\n",
        "\n",
        "  def fit(self, X, y):\n",
        "    self.w0 = np.median(y)\n",
        "\n",
        "  def predict(self, x):\n",
        "    return x * self.w1 + self.w0"
      ]
    },
    {
      "cell_type": "code",
      "execution_count": null,
      "id": "a31a74e3",
      "metadata": {
        "colab": {
          "base_uri": "https://localhost:8080/"
        },
        "id": "a31a74e3",
        "outputId": "be8824f4-47c1-4648-9833-e1d0b2092586"
      },
      "outputs": [
        {
          "output_type": "stream",
          "name": "stdout",
          "text": [
            "el costo sin entrenar es 1134565295000\n"
          ]
        }
      ],
      "source": [
        "# Creamos el modelo regresor\n",
        "nv_regressor = NaiveRegressor()\n",
        "# Calculamos el costo sin entrenar el modelo\n",
        "costo_se = nv_regressor.cost(X=hp[\"SqFt\"], y=hp[\"Price\"])\n",
        "print(f'el costo sin entrenar es {int(costo_se)}')"
      ]
    },
    {
      "cell_type": "code",
      "execution_count": null,
      "id": "46d4a503",
      "metadata": {
        "colab": {
          "base_uri": "https://localhost:8080/"
        },
        "id": "46d4a503",
        "outputId": "a16dccaf-d30f-4671-ec23-a936a49a8974"
      },
      "outputs": [
        {
          "output_type": "execute_result",
          "data": {
            "text/plain": [
              "0"
            ]
          },
          "metadata": {},
          "execution_count": 91
        }
      ],
      "source": [
        "# Predice 0 porque todavia no entrenamos el modelo\n",
        "# Los pesos estan en 0 todavia\n",
        "nv_regressor.predict(100)"
      ]
    },
    {
      "cell_type": "code",
      "execution_count": null,
      "id": "dd1af81c",
      "metadata": {
        "colab": {
          "base_uri": "https://localhost:8080/"
        },
        "id": "dd1af81c",
        "outputId": "91158c8e-49a7-4bd4-aaf4-58a66297015e"
      },
      "outputs": [
        {
          "output_type": "stream",
          "name": "stdout",
          "text": [
            "El costo, entrenando es 47125590000\n",
            "Mejoramos nuestro costo en 1087439705000\n"
          ]
        }
      ],
      "source": [
        "# Entrenamos el modelo\n",
        "nv_regressor.fit(X=hp[\"SqFt\"], y=hp[\"Price\"])\n",
        "\n",
        "costo_e = nv_regressor.cost(X=hp[\"SqFt\"], y=hp[\"Price\"])\n",
        "\n",
        "print(f'El costo, entrenando es {int(costo_e)}')\n",
        "print(f\"Mejoramos nuestro costo en {int(costo_se - costo_e)}\")"
      ]
    },
    {
      "cell_type": "code",
      "execution_count": null,
      "id": "4f03e09f",
      "metadata": {
        "colab": {
          "base_uri": "https://localhost:8080/"
        },
        "id": "4f03e09f",
        "outputId": "b9259305-f90b-4a58-82b8-e7b71d993cb0"
      },
      "outputs": [
        {
          "output_type": "execute_result",
          "data": {
            "text/plain": [
              "125950.0"
            ]
          },
          "metadata": {},
          "execution_count": 93
        }
      ],
      "source": [
        "# Entonces, predigo que una casa de 2500 pies cuadrados tendra:\n",
        "nv_regressor.predict(2500)"
      ]
    },
    {
      "cell_type": "code",
      "execution_count": null,
      "id": "2f17812e",
      "metadata": {
        "colab": {
          "base_uri": "https://localhost:8080/"
        },
        "id": "2f17812e",
        "outputId": "808292f7-9c7a-42c8-a8e1-e70d75b0aade"
      },
      "outputs": [
        {
          "output_type": "execute_result",
          "data": {
            "text/plain": [
              "125950.0"
            ]
          },
          "metadata": {},
          "execution_count": 94
        }
      ],
      "source": [
        "# Pero tambien predigo que una casa de 25000 pies cuadrados tendra:\n",
        "nv_regressor.predict(25_000)"
      ]
    },
    {
      "cell_type": "code",
      "execution_count": null,
      "id": "0196c646",
      "metadata": {
        "colab": {
          "base_uri": "https://localhost:8080/"
        },
        "id": "0196c646",
        "outputId": "23da6265-1d7b-425e-8518-c978673d61ce"
      },
      "outputs": [
        {
          "output_type": "execute_result",
          "data": {
            "text/plain": [
              "125950.0"
            ]
          },
          "metadata": {},
          "execution_count": 95
        }
      ],
      "source": [
        "# Y predigo que una casa de 2500000 pies cuadrados tendra:\n",
        "nv_regressor.predict(2_500_000)"
      ]
    },
    {
      "cell_type": "markdown",
      "id": "1b7d15b5",
      "metadata": {
        "id": "1b7d15b5"
      },
      "source": [
        "🤔 hmmmmm.....teniendo en cuenta que el palacio de Buckingham tiene 400_000 pies cuadrados es sospechoso ..."
      ]
    },
    {
      "cell_type": "code",
      "execution_count": null,
      "id": "cf78e964",
      "metadata": {
        "colab": {
          "base_uri": "https://localhost:8080/"
        },
        "id": "cf78e964",
        "outputId": "d0d37701-adf7-41a9-e58f-610d153ce48d"
      },
      "outputs": [
        {
          "output_type": "display_data",
          "data": {
            "text/plain": [
              "<Figure size 800x600 with 1 Axes>"
            ],
            "image/png": "[encoded data removed]"
          },
          "metadata": {}
        }
      ],
      "source": [
        "sns.scatterplot(x='SqFt', y='Price', data=hp).set_title('Price vs Superficie')\n",
        "\n",
        "x1 = hp[\"SqFt\"].min()\n",
        "x2 = hp[\"SqFt\"].max()\n",
        "y1 = nv_regressor.predict(x1)\n",
        "y2 = nv_regressor.predict(x2)\n",
        "\n",
        "\n",
        "plt.xlabel('Pies cuadrados')\n",
        "plt.ylabel('Precio en dolares')\n",
        "sns.lineplot(x=[x1, x2], y=[y1, y2], color='r') # mostramos nuestra prediccion en rojo\n",
        "# sns.lineplot(x=[x1,x2],y=[hp['Price'].mean()]*2, color='b')\n",
        "plt.show()"
      ]
    },
    {
      "cell_type": "code",
      "execution_count": null,
      "id": "51c464d9",
      "metadata": {
        "colab": {
          "base_uri": "https://localhost:8080/"
        },
        "id": "51c464d9",
        "outputId": "70a0630c-587b-404e-8249-38e2ae2d3436"
      },
      "outputs": [
        {
          "output_type": "display_data",
          "data": {
            "text/plain": [
              "<Figure size 800x600 with 1 Axes>"
            ],
            "image/png": "[encoded data removed]"
          },
          "metadata": {}
        }
      ],
      "source": [
        "sns.scatterplot(x='SqFt', y='Price', data=hp).set_title('Price vs Superficie')\n",
        "\n",
        "x1 = hp[\"SqFt\"].min()\n",
        "x2 = hp[\"SqFt\"].max()\n",
        "y1 = nv_regressor.predict(x1)\n",
        "y2 = nv_regressor.predict(x2)\n",
        "\n",
        "\n",
        "plt.xlabel('Pies cuadrados')\n",
        "plt.ylabel('Precio en dolares')\n",
        "sns.lineplot(x=[x1, x2], y=[y1, y2], color='r') # mostramos nuestra prediccion en rojo\n",
        "\n",
        "# Echemos un istazo a esos errores\n",
        "for _, row in hp.iterrows():\n",
        "    plt.plot([row['SqFt'], row['SqFt']], [row['Price'], nv_regressor.predict(np.array(row['SqFt']))], 'b')\n",
        "\n",
        "plt.show()"
      ]
    },
    {
      "cell_type": "markdown",
      "id": "10f3d8dd",
      "metadata": {
        "id": "10f3d8dd"
      },
      "source": [
        "#### Regresion lineal (ya terminamos)\n",
        "Ahora, sin entrar en detalles, vemos que puede hacer un modelo simple, pero real, de sklearn\n"
      ]
    },
    {
      "cell_type": "code",
      "execution_count": null,
      "id": "c7010798",
      "metadata": {
        "colab": {
          "base_uri": "https://localhost:8080/"
        },
        "id": "c7010798",
        "outputId": "2e025252-fdcf-423a-8360-7821f8b6efa7"
      },
      "outputs": [
        {
          "output_type": "execute_result",
          "data": {
            "text/plain": [
              "LinearRegression()"
            ],
            "text/html": [
              "<style>#sk-container-id-3 {color: black;background-color: white;}#sk-container-id-3 pre{padding: 0;}#sk-container-id-3 div.sk-toggleable {background-color: white;}#sk-container-id-3 label.sk-toggleable__label {cursor: pointer;display: block;width: 100%;margin-bottom: 0;padding: 0.3em;box-sizing: border-box;text-align: center;}#sk-container-id-3 label.sk-toggleable__label-arrow:before {content: \"▸\";float: left;margin-right: 0.25em;color: #696969;}#sk-container-id-3 label.sk-toggleable__label-arrow:hover:before {color: black;}#sk-container-id-3 div.sk-estimator:hover label.sk-toggleable__label-arrow:before {color: black;}#sk-container-id-3 div.sk-toggleable__content {max-height: 0;max-width: 0;overflow: hidden;text-align: left;background-color: #f0f8ff;}#sk-container-id-3 div.sk-toggleable__content pre {margin: 0.2em;color: black;border-radius: 0.25em;background-color: #f0f8ff;}#sk-container-id-3 input.sk-toggleable__control:checked~div.sk-toggleable__content {max-height: 200px;max-width: 100%;overflow: auto;}#sk-container-id-3 input.sk-toggleable__control:checked~label.sk-toggleable__label-arrow:before {content: \"▾\";}#sk-container-id-3 div.sk-estimator input.sk-toggleable__control:checked~label.sk-toggleable__label {background-color: #d4ebff;}#sk-container-id-3 div.sk-label input.sk-toggleable__control:checked~label.sk-toggleable__label {background-color: #d4ebff;}#sk-container-id-3 input.sk-hidden--visually {border: 0;clip: rect(1px 1px 1px 1px);clip: rect(1px, 1px, 1px, 1px);height: 1px;margin: -1px;overflow: hidden;padding: 0;position: absolute;width: 1px;}#sk-container-id-3 div.sk-estimator {font-family: monospace;background-color: #f0f8ff;border: 1px dotted black;border-radius: 0.25em;box-sizing: border-box;margin-bottom: 0.5em;}#sk-container-id-3 div.sk-estimator:hover {background-color: #d4ebff;}#sk-container-id-3 div.sk-parallel-item::after {content: \"\";width: 100%;border-bottom: 1px solid gray;flex-grow: 1;}#sk-container-id-3 div.sk-label:hover label.sk-toggleable__label {background-color: #d4ebff;}#sk-container-id-3 div.sk-serial::before {content: \"\";position: absolute;border-left: 1px solid gray;box-sizing: border-box;top: 0;bottom: 0;left: 50%;z-index: 0;}#sk-container-id-3 div.sk-serial {display: flex;flex-direction: column;align-items: center;background-color: white;padding-right: 0.2em;padding-left: 0.2em;position: relative;}#sk-container-id-3 div.sk-item {position: relative;z-index: 1;}#sk-container-id-3 div.sk-parallel {display: flex;align-items: stretch;justify-content: center;background-color: white;position: relative;}#sk-container-id-3 div.sk-item::before, #sk-container-id-3 div.sk-parallel-item::before {content: \"\";position: absolute;border-left: 1px solid gray;box-sizing: border-box;top: 0;bottom: 0;left: 50%;z-index: -1;}#sk-container-id-3 div.sk-parallel-item {display: flex;flex-direction: column;z-index: 1;position: relative;background-color: white;}#sk-container-id-3 div.sk-parallel-item:first-child::after {align-self: flex-end;width: 50%;}#sk-container-id-3 div.sk-parallel-item:last-child::after {align-self: flex-start;width: 50%;}#sk-container-id-3 div.sk-parallel-item:only-child::after {width: 0;}#sk-container-id-3 div.sk-dashed-wrapped {border: 1px dashed gray;margin: 0 0.4em 0.5em 0.4em;box-sizing: border-box;padding-bottom: 0.4em;background-color: white;}#sk-container-id-3 div.sk-label label {font-family: monospace;font-weight: bold;display: inline-block;line-height: 1.2em;}#sk-container-id-3 div.sk-label-container {text-align: center;}#sk-container-id-3 div.sk-container {/* jupyter's `normalize.less` sets `[hidden] { display: none; }` but bootstrap.min.css set `[hidden] { display: none !important; }` so we also need the `!important` here to be able to override the default hidden behavior on the sphinx rendered scikit-learn.org. See: https://github.com/scikit-learn/scikit-learn/issues/21755 */display: inline-block !important;position: relative;}#sk-container-id-3 div.sk-text-repr-fallback {display: none;}</style><div id=\"sk-container-id-3\" class=\"sk-top-container\"><div class=\"sk-text-repr-fallback\"><pre>LinearRegression()</pre><b>In a Jupyter environment, please rerun this cell to show the HTML representation or trust the notebook. <br />On GitHub, the HTML representation is unable to render, please try loading this page with nbviewer.org.</b></div><div class=\"sk-container\" hidden><div class=\"sk-item\"><div class=\"sk-estimator sk-toggleable\"><input class=\"sk-toggleable__control sk-hidden--visually\" id=\"sk-estimator-id-3\" type=\"checkbox\" checked><label for=\"sk-estimator-id-3\" class=\"sk-toggleable__label sk-toggleable__label-arrow\">LinearRegression</label><div class=\"sk-toggleable__content\"><pre>LinearRegression()</pre></div></div></div></div></div>"
            ]
          },
          "metadata": {},
          "execution_count": 108
        }
      ],
      "source": [
        "lr1 = LinearRegression()\n",
        "X = hp.SqFt.values.reshape(-1, 1)\n",
        "y = hp.Price.values\n",
        "\n",
        "# Entrenamos nuestro modelo con fit:\n",
        "lr1.fit(X, y)\n"
      ]
    },
    {
      "cell_type": "markdown",
      "id": "83742f83",
      "metadata": {
        "id": "83742f83"
      },
      "source": [
        "Veamos como se compara con nuestro modelo un poco peresozo. La libreria `sklearn.metrics` tiene distintos funciones para evaluar a nuestros modelos. La funcion de costo que usamos previamente se llama \"error cuadrado medio\", o mean_squared_error, y es ampliamente utilizada en modelos de regresion lineal."
      ]
    },
    {
      "cell_type": "code",
      "execution_count": null,
      "id": "7720b660",
      "metadata": {
        "id": "7720b660"
      },
      "outputs": [],
      "source": [
        "import warnings\n",
        "warnings.filterwarnings('ignore', category=np.VisibleDeprecationWarning)"
      ]
    },
    {
      "cell_type": "code",
      "execution_count": null,
      "id": "7a16ac33",
      "metadata": {
        "colab": {
          "base_uri": "https://localhost:8080/"
        },
        "id": "7a16ac33",
        "outputId": "e2fe8584-5766-4b2c-e6fc-9892c4f3c4fe"
      },
      "outputs": [
        {
          "output_type": "display_data",
          "data": {
            "text/plain": [
              "<Figure size 800x600 with 1 Axes>"
            ],
            "image/png": "[encoded data removed]"
          },
          "metadata": {}
        }
      ],
      "source": [
        "# Primero, obtengamos una intuicion de lo que hace el modelo y como se compara con lo que hicimos anteriormente:\n",
        "sns.scatterplot(x='SqFt', y='Price', data=hp).set_title('Precio vs Superficie')\n",
        "\n",
        "x1 = hp[\"SqFt\"].min()\n",
        "x2 = hp[\"SqFt\"].max()\n",
        "y1 = lr1.predict(np.array([[x1]]))[0] # Ojo, aca predict de skearn espera siempre un array de 2 dimensiones\n",
        "y2 = lr1.predict(np.array([[x2]]))[0] # Ojo, nos devuelve tambien un array (o vector)\n",
        "\n",
        "\n",
        "plt.xlabel('Pies cuadrados')\n",
        "plt.ylabel('Precio en dolares')\n",
        "sns.lineplot(x=[x1, x2], y=[y1, y2], color='r') # mostramos nuestra prediccion en rojo\n",
        "\n",
        "\n",
        "# Echemos un istazo a esos errores\n",
        "for _, row in hp.iterrows():\n",
        "    plt.plot([row['SqFt'], row['SqFt']], [row['Price'], lr1.predict(np.atleast_2d(row['SqFt']))], 'b')\n",
        "\n",
        "plt.show()\n",
        "\n",
        "\n",
        "\n"
      ]
    },
    {
      "cell_type": "code",
      "execution_count": null,
      "id": "d53b9f9b",
      "metadata": {
        "id": "d53b9f9b"
      },
      "outputs": [],
      "source": [
        "from sklearn.metrics import mean_squared_error"
      ]
    },
    {
      "cell_type": "code",
      "execution_count": null,
      "id": "2743a7c2",
      "metadata": {
        "colab": {
          "base_uri": "https://localhost:8080/"
        },
        "id": "2743a7c2",
        "outputId": "b0a92192-9e22-4f59-86a6-ba95cd1f8db5"
      },
      "outputs": [
        {
          "output_type": "stream",
          "name": "stdout",
          "text": [
            "Nuestro modelo nos da un error de 497256650\n",
            "El error de sklearn es 46628333349 menor que nuestro modelo peresozo\n"
          ]
        }
      ],
      "source": [
        "# Hacemos nuestras predicciones con transform\n",
        "y_pred = lr1.predict(X)\n",
        "\n",
        "costo_sklearn = mean_squared_error(y, y_pred)\n",
        "print(f\"Nuestro modelo nos da un error de {int(costo_sklearn)}\")\n",
        "print(f\"El error de sklearn es {int(costo_e - costo_sklearn)} menor que nuestro modelo peresozo\")"
      ]
    },
    {
      "cell_type": "markdown",
      "id": "885aa9f7",
      "metadata": {
        "id": "885aa9f7"
      },
      "source": [
        "Mejoramos nuestro error al predecir una linea que se ajusta mas a los datos. En las proximas clases, entraremos en detalle con el modelo de regresion lineal"
      ]
    }
  ],
  "metadata": {
    "kernelspec": {
      "display_name": "Python 3 (ipykernel)",
      "language": "python",
      "name": "python3"
    },
    "language_info": {
      "codemirror_mode": {
        "name": "ipython",
        "version": 3
      },
      "file_extension": ".py",
      "mimetype": "text/x-python",
      "name": "python",
      "nbconvert_exporter": "python",
      "pygments_lexer": "ipython3",
      "version": "3.9.7"
    },
    "colab": {
      "provenance": [],
      "include_colab_link": true
    }
  },
  "nbformat": 4,
  "nbformat_minor": 5
}